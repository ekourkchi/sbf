{
 "cells": [
  {
   "cell_type": "markdown",
   "metadata": {},
   "source": [
    "Run the following cell to force the stdout results appear on your terminal.\n",
    "This prevents your notebook of gettin cluterred with the logs of the software executed in background."
   ]
  },
  {
   "cell_type": "code",
   "execution_count": 1,
   "metadata": {},
   "outputs": [],
   "source": [
    "import sys\n",
    "import os"
   ]
  },
  {
   "cell_type": "code",
   "execution_count": 2,
   "metadata": {},
   "outputs": [],
   "source": [
    "import logging\n",
    "\n",
    "logging.basicConfig(level=logging.ERROR)  # Only show ERROR messages and above\n",
    "\n",
    "import warnings\n",
    "warnings.filterwarnings(\"ignore\")"
   ]
  },
  {
   "cell_type": "code",
   "execution_count": 3,
   "metadata": {},
   "outputs": [],
   "source": [
    "from settings import *"
   ]
  },
  {
   "cell_type": "markdown",
   "metadata": {},
   "source": [
    "## Importing essential Python Packages"
   ]
  },
  {
   "cell_type": "code",
   "execution_count": 4,
   "metadata": {},
   "outputs": [],
   "source": [
    "sys.path.insert(0, PYSBF_PATH)\n",
    "\n",
    "import warnings\n",
    "from pysbf import *\n",
    "from IPython.display import display, Markdown, clear_output\n",
    "\n",
    "%matplotlib widget\n",
    "warnings.filterwarnings('ignore')"
   ]
  },
  {
   "cell_type": "markdown",
   "metadata": {},
   "source": [
    "## Installing Required Python Packages ..\n",
    "\n",
    "- **Note:** If this is your first time running this notebook, check the following box to install all required python packages."
   ]
  },
  {
   "cell_type": "markdown",
   "metadata": {},
   "source": [
    "## Object Initialization"
   ]
  },
  {
   "cell_type": "code",
   "execution_count": 5,
   "metadata": {},
   "outputs": [
    {
     "data": {
      "application/vnd.jupyter.widget-view+json": {
       "model_id": "f6a73d1848ae45e2bc35b26acc510842",
       "version_major": 2,
       "version_minor": 0
      },
      "text/plain": [
       "Checkbox(value=False, description='Force New Session')"
      ]
     },
     "execution_count": 5,
     "metadata": {},
     "output_type": "execute_result"
    }
   ],
   "source": [
    "box_new = widgets.Checkbox(description='Force New Session', value = False)\n",
    "box_new"
   ]
  },
  {
   "cell_type": "markdown",
   "metadata": {},
   "source": [
    "### Force New\n",
    "\n",
    "- Set to `True` (check the above box) to generate a new working session. All parameters would be reset to default values, and all output files would be stored in a new folder with the same name.\n",
    "\n",
    "- Default is `False`, if the session doesn't exist, it creates a new one, otherwise it starts from lastest parameters stored in the logfile and continues saving outputs in the same folder as the existing sessin."
   ]
  },
  {
   "cell_type": "code",
   "execution_count": 6,
   "metadata": {},
   "outputs": [],
   "source": [
    "name = \"u12517\""
   ]
  },
  {
   "cell_type": "code",
   "execution_count": null,
   "metadata": {},
   "outputs": [],
   "source": []
  },
  {
   "cell_type": "code",
   "execution_count": 7,
   "metadata": {},
   "outputs": [
    {
     "name": "stdout",
     "output_type": "stream",
     "text": [
      "Creating output folder:  /home/sbf/data_out/wfc3/u12517_829333f8713f\n",
      "Error: Could not run Source Extractor on the file\n",
      "/home/sbf/data_in/wfc3/u12517j.fits\n",
      "Couldn't find /home/sbf/data_in/wfc3/u12517j.fits\n",
      "here\n"
     ]
    },
    {
     "name": "stderr",
     "output_type": "stream",
     "text": [
      "\u001b[1M> \n",
      "\u001b[1A----- SExtractor 2.28.0 started on 2025-03-10 at 02:39:08 with 1 thread\n",
      "\n",
      "\u001b[1M> Setting catalog parameters\n",
      "\u001b[1A\u001b[1M> Reading detection filter\n",
      "\u001b[1A\u001b[1M> Initializing Neural Network\n",
      "\u001b[1A\u001b[1M> Reading Neural Network Weights\n",
      "\u001b[1A\n",
      "> *Error*: cannot open /home/sbf/data_in/wfc3/u12517j.fits\n",
      "\n"
     ]
    }
   ],
   "source": [
    "obj = SBFobject(name, \n",
    "                inFolder=IN_FOLDER, \n",
    "                outFolder=OUT_FOLDER,\n",
    "                config=CONFIG_FOLDER, \n",
    "                force_new=box_new.value)"
   ]
  },
  {
   "cell_type": "code",
   "execution_count": null,
   "metadata": {},
   "outputs": [],
   "source": []
  },
  {
   "cell_type": "code",
   "execution_count": 8,
   "metadata": {},
   "outputs": [
    {
     "data": {
      "application/vnd.jupyter.widget-view+json": {
       "model_id": "46e917c46c8842b88e508037785eadad",
       "version_major": 2,
       "version_minor": 0
      },
      "text/plain": [
       "HBox(children=(FloatSlider(value=0.03, description='Threshold', max=0.16, min=0.01, step=0.01),))"
      ]
     },
     "execution_count": 8,
     "metadata": {},
     "output_type": "execute_result"
    }
   ],
   "source": [
    "s = obj.slider_back_threshold()\n",
    "\n",
    "widgets.HBox(s)"
   ]
  },
  {
   "cell_type": "code",
   "execution_count": null,
   "metadata": {},
   "outputs": [],
   "source": []
  },
  {
   "cell_type": "code",
   "execution_count": 9,
   "metadata": {},
   "outputs": [
    {
     "name": "stdout",
     "output_type": "stream",
     "text": [
      "===== MONSTA =====\n",
      "   1\n",
      "   2        rd 1 /home/sbf/data_in/wfc3/u12517j.fits\n",
      "   3        rd 2 /home/sbf/config//common.mask\n",
      "   4        mi 1 2\n",
      "   5        wd 1 /home/sbf/data_out/wfc3/u12517_829333f8713f//tmp\n",
      "   6        q\n",
      "   7\n",
      "   8        \n",
      "===================\n",
      " Can't open file /home/sbf/data_in/wfc3/u12517j.fits\n",
      " Error at line   2:          rd 1 /home/sbf/data_in/wfc3/u12517j.fits\n",
      " Subroutine stack   Line number:\n",
      " VISTA                                                 0\n",
      " /home/sbf/data_out/wfc3/u12517_829333f8713f/obj.pr    2\n",
      " >> \n"
     ]
    },
    {
     "name": "stderr",
     "output_type": "stream",
     "text": [
      "\u001b[1M> \n",
      "\u001b[1A----- SExtractor 2.28.0 started on 2025-03-10 at 02:39:08 with 1 thread\n",
      "\n",
      "\u001b[1M> Setting catalog parameters\n",
      "\u001b[1A\u001b[1M> Reading detection filter\n",
      "\u001b[1A\u001b[1M> Initializing Neural Network\n",
      "\u001b[1A\u001b[1M> Reading Neural Network Weights\n",
      "\u001b[1A\n",
      "> *Error*: cannot open /home/sbf/data_out/wfc3/u12517_829333f8713f//tmp\n",
      "\n"
     ]
    },
    {
     "ename": "FileNotFoundError",
     "evalue": "[Errno 2] No such file or directory: '/home/sbf/data_out/wfc3/u12517_829333f8713f/back_mask.fits'",
     "output_type": "error",
     "traceback": [
      "\u001b[0;31m---------------------------------------------------------------------------\u001b[0m",
      "\u001b[0;31mFileNotFoundError\u001b[0m                         Traceback (most recent call last)",
      "Cell \u001b[0;32mIn[9], line 1\u001b[0m\n\u001b[0;32m----> 1\u001b[0m _ \u001b[38;5;241m=\u001b[39m obj\u001b[38;5;241m.\u001b[39mplot_back_mask()\n",
      "File \u001b[0;32m~/pysbf/sbfTools.py:1126\u001b[0m, in \u001b[0;36mSBFobject.plot_back_mask\u001b[0;34m(self, pngName)\u001b[0m\n\u001b[1;32m   1120\u001b[0m \u001b[38;5;28;01mdef\u001b[39;00m \u001b[38;5;21mplot_back_mask\u001b[39m(\u001b[38;5;28mself\u001b[39m, pngName\u001b[38;5;241m=\u001b[39m\u001b[38;5;28;01mNone\u001b[39;00m):\n\u001b[1;32m   1122\u001b[0m     thresh \u001b[38;5;241m=\u001b[39m \u001b[38;5;28mself\u001b[39m\u001b[38;5;241m.\u001b[39mparams[\u001b[38;5;124m\"\u001b[39m\u001b[38;5;124mbackSextract\u001b[39m\u001b[38;5;124m\"\u001b[39m][\u001b[38;5;124m\"\u001b[39m\u001b[38;5;124mthreshold\u001b[39m\u001b[38;5;124m\"\u001b[39m] \u001b[38;5;241m=\u001b[39m \u001b[38;5;28mself\u001b[39m\u001b[38;5;241m.\u001b[39mwidgets[\n\u001b[1;32m   1123\u001b[0m         \u001b[38;5;124m\"\u001b[39m\u001b[38;5;124mbackSextract_thresh\u001b[39m\u001b[38;5;124m\"\u001b[39m\n\u001b[1;32m   1124\u001b[0m     ]\u001b[38;5;241m.\u001b[39mvalue\n\u001b[0;32m-> 1126\u001b[0m     \u001b[38;5;28mself\u001b[39m\u001b[38;5;241m.\u001b[39mbackSextract(thresh\u001b[38;5;241m=\u001b[39mthresh)\n\u001b[1;32m   1127\u001b[0m     fig, [ax1, ax2, ax3] \u001b[38;5;241m=\u001b[39m \u001b[38;5;28mself\u001b[39m\u001b[38;5;241m.\u001b[39mplot_background()\n\u001b[1;32m   1129\u001b[0m     \u001b[38;5;28;01mif\u001b[39;00m pngName \u001b[38;5;129;01mis\u001b[39;00m \u001b[38;5;28;01mNone\u001b[39;00m:\n",
      "File \u001b[0;32m~/pysbf/sbfTools.py:869\u001b[0m, in \u001b[0;36mSBFobject.backSextract\u001b[0;34m(self, thresh)\u001b[0m\n\u001b[1;32m    858\u001b[0m cmd \u001b[38;5;241m+\u001b[39m\u001b[38;5;241m=\u001b[39m (\n\u001b[1;32m    859\u001b[0m     \u001b[38;5;124m\"\u001b[39m\u001b[38;5;124m -PARAMETERS_NAME \u001b[39m\u001b[38;5;124m\"\u001b[39m\n\u001b[1;32m    860\u001b[0m     \u001b[38;5;241m+\u001b[39m PARAMETERS_NAME\n\u001b[0;32m   (...)\u001b[0m\n\u001b[1;32m    864\u001b[0m     \u001b[38;5;241m+\u001b[39m STARNNW_NAME\n\u001b[1;32m    865\u001b[0m )\n\u001b[1;32m    867\u001b[0m xcmd(cmd \u001b[38;5;241m+\u001b[39m \u001b[38;5;124m\"\u001b[39m\u001b[38;5;124m > \u001b[39m\u001b[38;5;124m\"\u001b[39m \u001b[38;5;241m+\u001b[39m root \u001b[38;5;241m+\u001b[39m \u001b[38;5;124m\"\u001b[39m\u001b[38;5;124msextractor.log\u001b[39m\u001b[38;5;124m\"\u001b[39m, verbose\u001b[38;5;241m=\u001b[39m\u001b[38;5;28;01mFalse\u001b[39;00m)\n\u001b[0;32m--> 869\u001b[0m mask2 \u001b[38;5;241m=\u001b[39m seg2mask(segmentation, segmentation)\n\u001b[1;32m    870\u001b[0m im, _ \u001b[38;5;241m=\u001b[39m imOpen(odj_common)\n\u001b[1;32m    872\u001b[0m masked_image \u001b[38;5;241m=\u001b[39m im \u001b[38;5;241m*\u001b[39m mask2\n",
      "File \u001b[0;32m~/pysbf/utils.py:644\u001b[0m, in \u001b[0;36mseg2mask\u001b[0;34m(inFits, outMask, overwrite, seg_num, good_segments, object_mask, invert)\u001b[0m\n\u001b[1;32m    634\u001b[0m \u001b[38;5;28;01mdef\u001b[39;00m \u001b[38;5;21mseg2mask\u001b[39m(\n\u001b[1;32m    635\u001b[0m     inFits,\n\u001b[1;32m    636\u001b[0m     outMask,\n\u001b[0;32m   (...)\u001b[0m\n\u001b[1;32m    641\u001b[0m     invert\u001b[38;5;241m=\u001b[39m\u001b[38;5;28;01mFalse\u001b[39;00m,\n\u001b[1;32m    642\u001b[0m ):\n\u001b[0;32m--> 644\u001b[0m     imarray, header \u001b[38;5;241m=\u001b[39m imOpen(inFits)\n\u001b[1;32m    646\u001b[0m     \u001b[38;5;28;01mfor\u001b[39;00m good_pix \u001b[38;5;129;01min\u001b[39;00m good_segments:\n\u001b[1;32m    647\u001b[0m         imarray[((imarray \u001b[38;5;241m==\u001b[39m good_pix))] \u001b[38;5;241m=\u001b[39m \u001b[38;5;241m-\u001b[39m\u001b[38;5;241m1\u001b[39m  \u001b[38;5;66;03m# good pixel\u001b[39;00m\n",
      "File \u001b[0;32m~/pysbf/utils.py:624\u001b[0m, in \u001b[0;36mimOpen\u001b[0;34m(inFits)\u001b[0m\n\u001b[1;32m    622\u001b[0m \u001b[38;5;28;01mdef\u001b[39;00m \u001b[38;5;21mimOpen\u001b[39m(inFits):\n\u001b[0;32m--> 624\u001b[0m     hdu_list \u001b[38;5;241m=\u001b[39m fits\u001b[38;5;241m.\u001b[39mopen(inFits)\n\u001b[1;32m    625\u001b[0m     imarray \u001b[38;5;241m=\u001b[39m hdu_list[\u001b[38;5;241m0\u001b[39m]\u001b[38;5;241m.\u001b[39mdata\n\u001b[1;32m    626\u001b[0m     header \u001b[38;5;241m=\u001b[39m hdu_list[\u001b[38;5;241m0\u001b[39m]\u001b[38;5;241m.\u001b[39mheader\n",
      "File \u001b[0;32m/opt/miniconda3/lib/python3.12/site-packages/astropy/io/fits/hdu/hdulist.py:223\u001b[0m, in \u001b[0;36mfitsopen\u001b[0;34m(name, mode, memmap, save_backup, cache, lazy_load_hdus, ignore_missing_simple, use_fsspec, fsspec_kwargs, decompress_in_memory, **kwargs)\u001b[0m\n\u001b[1;32m    220\u001b[0m \u001b[38;5;28;01mif\u001b[39;00m \u001b[38;5;129;01mnot\u001b[39;00m name:\n\u001b[1;32m    221\u001b[0m     \u001b[38;5;28;01mraise\u001b[39;00m \u001b[38;5;167;01mValueError\u001b[39;00m(\u001b[38;5;124mf\u001b[39m\u001b[38;5;124m\"\u001b[39m\u001b[38;5;124mEmpty filename: \u001b[39m\u001b[38;5;132;01m{\u001b[39;00mname\u001b[38;5;132;01m!r}\u001b[39;00m\u001b[38;5;124m\"\u001b[39m)\n\u001b[0;32m--> 223\u001b[0m \u001b[38;5;28;01mreturn\u001b[39;00m HDUList\u001b[38;5;241m.\u001b[39mfromfile(\n\u001b[1;32m    224\u001b[0m     name,\n\u001b[1;32m    225\u001b[0m     mode,\n\u001b[1;32m    226\u001b[0m     memmap,\n\u001b[1;32m    227\u001b[0m     save_backup,\n\u001b[1;32m    228\u001b[0m     cache,\n\u001b[1;32m    229\u001b[0m     lazy_load_hdus,\n\u001b[1;32m    230\u001b[0m     ignore_missing_simple,\n\u001b[1;32m    231\u001b[0m     use_fsspec\u001b[38;5;241m=\u001b[39muse_fsspec,\n\u001b[1;32m    232\u001b[0m     fsspec_kwargs\u001b[38;5;241m=\u001b[39mfsspec_kwargs,\n\u001b[1;32m    233\u001b[0m     decompress_in_memory\u001b[38;5;241m=\u001b[39mdecompress_in_memory,\n\u001b[1;32m    234\u001b[0m     \u001b[38;5;241m*\u001b[39m\u001b[38;5;241m*\u001b[39mkwargs,\n\u001b[1;32m    235\u001b[0m )\n",
      "File \u001b[0;32m/opt/miniconda3/lib/python3.12/site-packages/astropy/io/fits/hdu/hdulist.py:487\u001b[0m, in \u001b[0;36mHDUList.fromfile\u001b[0;34m(cls, fileobj, mode, memmap, save_backup, cache, lazy_load_hdus, ignore_missing_simple, **kwargs)\u001b[0m\n\u001b[1;32m    468\u001b[0m \u001b[38;5;129m@classmethod\u001b[39m\n\u001b[1;32m    469\u001b[0m \u001b[38;5;28;01mdef\u001b[39;00m \u001b[38;5;21mfromfile\u001b[39m(\n\u001b[1;32m    470\u001b[0m     \u001b[38;5;28mcls\u001b[39m,\n\u001b[0;32m   (...)\u001b[0m\n\u001b[1;32m    478\u001b[0m     \u001b[38;5;241m*\u001b[39m\u001b[38;5;241m*\u001b[39mkwargs,\n\u001b[1;32m    479\u001b[0m ):\n\u001b[1;32m    480\u001b[0m \u001b[38;5;250m    \u001b[39m\u001b[38;5;124;03m\"\"\"\u001b[39;00m\n\u001b[1;32m    481\u001b[0m \u001b[38;5;124;03m    Creates an `HDUList` instance from a file-like object.\u001b[39;00m\n\u001b[1;32m    482\u001b[0m \n\u001b[0;32m   (...)\u001b[0m\n\u001b[1;32m    485\u001b[0m \u001b[38;5;124;03m    documentation for details of the parameters accepted by this method).\u001b[39;00m\n\u001b[1;32m    486\u001b[0m \u001b[38;5;124;03m    \"\"\"\u001b[39;00m\n\u001b[0;32m--> 487\u001b[0m     \u001b[38;5;28;01mreturn\u001b[39;00m \u001b[38;5;28mcls\u001b[39m\u001b[38;5;241m.\u001b[39m_readfrom(\n\u001b[1;32m    488\u001b[0m         fileobj\u001b[38;5;241m=\u001b[39mfileobj,\n\u001b[1;32m    489\u001b[0m         mode\u001b[38;5;241m=\u001b[39mmode,\n\u001b[1;32m    490\u001b[0m         memmap\u001b[38;5;241m=\u001b[39mmemmap,\n\u001b[1;32m    491\u001b[0m         save_backup\u001b[38;5;241m=\u001b[39msave_backup,\n\u001b[1;32m    492\u001b[0m         cache\u001b[38;5;241m=\u001b[39mcache,\n\u001b[1;32m    493\u001b[0m         ignore_missing_simple\u001b[38;5;241m=\u001b[39mignore_missing_simple,\n\u001b[1;32m    494\u001b[0m         lazy_load_hdus\u001b[38;5;241m=\u001b[39mlazy_load_hdus,\n\u001b[1;32m    495\u001b[0m         \u001b[38;5;241m*\u001b[39m\u001b[38;5;241m*\u001b[39mkwargs,\n\u001b[1;32m    496\u001b[0m     )\n",
      "File \u001b[0;32m/opt/miniconda3/lib/python3.12/site-packages/astropy/io/fits/hdu/hdulist.py:1169\u001b[0m, in \u001b[0;36mHDUList._readfrom\u001b[0;34m(cls, fileobj, data, mode, memmap, cache, lazy_load_hdus, ignore_missing_simple, use_fsspec, fsspec_kwargs, decompress_in_memory, **kwargs)\u001b[0m\n\u001b[1;32m   1166\u001b[0m \u001b[38;5;28;01mif\u001b[39;00m fileobj \u001b[38;5;129;01mis\u001b[39;00m \u001b[38;5;129;01mnot\u001b[39;00m \u001b[38;5;28;01mNone\u001b[39;00m:\n\u001b[1;32m   1167\u001b[0m     \u001b[38;5;28;01mif\u001b[39;00m \u001b[38;5;129;01mnot\u001b[39;00m \u001b[38;5;28misinstance\u001b[39m(fileobj, _File):\n\u001b[1;32m   1168\u001b[0m         \u001b[38;5;66;03m# instantiate a FITS file object (ffo)\u001b[39;00m\n\u001b[0;32m-> 1169\u001b[0m         fileobj \u001b[38;5;241m=\u001b[39m _File(\n\u001b[1;32m   1170\u001b[0m             fileobj,\n\u001b[1;32m   1171\u001b[0m             mode\u001b[38;5;241m=\u001b[39mmode,\n\u001b[1;32m   1172\u001b[0m             memmap\u001b[38;5;241m=\u001b[39mmemmap,\n\u001b[1;32m   1173\u001b[0m             cache\u001b[38;5;241m=\u001b[39mcache,\n\u001b[1;32m   1174\u001b[0m             use_fsspec\u001b[38;5;241m=\u001b[39muse_fsspec,\n\u001b[1;32m   1175\u001b[0m             fsspec_kwargs\u001b[38;5;241m=\u001b[39mfsspec_kwargs,\n\u001b[1;32m   1176\u001b[0m             decompress_in_memory\u001b[38;5;241m=\u001b[39mdecompress_in_memory,\n\u001b[1;32m   1177\u001b[0m         )\n\u001b[1;32m   1178\u001b[0m     \u001b[38;5;66;03m# The Astropy mode is determined by the _File initializer if the\u001b[39;00m\n\u001b[1;32m   1179\u001b[0m     \u001b[38;5;66;03m# supplied mode was None\u001b[39;00m\n\u001b[1;32m   1180\u001b[0m     mode \u001b[38;5;241m=\u001b[39m fileobj\u001b[38;5;241m.\u001b[39mmode\n",
      "File \u001b[0;32m/opt/miniconda3/lib/python3.12/site-packages/astropy/io/fits/file.py:218\u001b[0m, in \u001b[0;36m_File.__init__\u001b[0;34m(self, fileobj, mode, memmap, overwrite, cache, use_fsspec, fsspec_kwargs, decompress_in_memory)\u001b[0m\n\u001b[1;32m    216\u001b[0m     \u001b[38;5;28mself\u001b[39m\u001b[38;5;241m.\u001b[39m_open_fileobj(fileobj, mode, overwrite)\n\u001b[1;32m    217\u001b[0m \u001b[38;5;28;01melif\u001b[39;00m \u001b[38;5;28misinstance\u001b[39m(fileobj, (\u001b[38;5;28mstr\u001b[39m, \u001b[38;5;28mbytes\u001b[39m)):\n\u001b[0;32m--> 218\u001b[0m     \u001b[38;5;28mself\u001b[39m\u001b[38;5;241m.\u001b[39m_open_filename(fileobj, mode, overwrite)\n\u001b[1;32m    219\u001b[0m \u001b[38;5;28;01melse\u001b[39;00m:\n\u001b[1;32m    220\u001b[0m     \u001b[38;5;28mself\u001b[39m\u001b[38;5;241m.\u001b[39m_open_filelike(fileobj, mode, overwrite)\n",
      "File \u001b[0;32m/opt/miniconda3/lib/python3.12/site-packages/astropy/io/fits/file.py:651\u001b[0m, in \u001b[0;36m_File._open_filename\u001b[0;34m(self, filename, mode, overwrite)\u001b[0m\n\u001b[1;32m    648\u001b[0m ext \u001b[38;5;241m=\u001b[39m os\u001b[38;5;241m.\u001b[39mpath\u001b[38;5;241m.\u001b[39msplitext(\u001b[38;5;28mself\u001b[39m\u001b[38;5;241m.\u001b[39mname)[\u001b[38;5;241m1\u001b[39m]\n\u001b[1;32m    650\u001b[0m \u001b[38;5;28;01mif\u001b[39;00m \u001b[38;5;129;01mnot\u001b[39;00m \u001b[38;5;28mself\u001b[39m\u001b[38;5;241m.\u001b[39m_try_read_compressed(\u001b[38;5;28mself\u001b[39m\u001b[38;5;241m.\u001b[39mname, magic, mode, ext\u001b[38;5;241m=\u001b[39mext):\n\u001b[0;32m--> 651\u001b[0m     \u001b[38;5;28mself\u001b[39m\u001b[38;5;241m.\u001b[39m_file \u001b[38;5;241m=\u001b[39m \u001b[38;5;28mopen\u001b[39m(\u001b[38;5;28mself\u001b[39m\u001b[38;5;241m.\u001b[39mname, IO_FITS_MODES[mode])\n\u001b[1;32m    652\u001b[0m     \u001b[38;5;28mself\u001b[39m\u001b[38;5;241m.\u001b[39mclose_on_error \u001b[38;5;241m=\u001b[39m \u001b[38;5;28;01mTrue\u001b[39;00m\n\u001b[1;32m    654\u001b[0m \u001b[38;5;66;03m# Make certain we're back at the beginning of the file\u001b[39;00m\n\u001b[1;32m    655\u001b[0m \u001b[38;5;66;03m# BZ2File does not support seek when the file is open for writing, but\u001b[39;00m\n\u001b[1;32m    656\u001b[0m \u001b[38;5;66;03m# when opening a file for write, bz2.BZ2File always truncates anyway.\u001b[39;00m\n",
      "\u001b[0;31mFileNotFoundError\u001b[0m: [Errno 2] No such file or directory: '/home/sbf/data_out/wfc3/u12517_829333f8713f/back_mask.fits'"
     ]
    }
   ],
   "source": [
    "_ = obj.plot_back_mask()"
   ]
  },
  {
   "cell_type": "markdown",
   "metadata": {},
   "source": [
    "Here, we do a crude calculations to generate an initial mask. The main objective is to mask out the large objects in the field.\n",
    "\n",
    "- `minArea`: the minimum number of pixels in the masked regions\n",
    "- `thresh`: the threshold factor that represents the signal to noise ratio of the detected segmented areas. Larger values would reduce the number of masked, because larger signal levels would satisfy the threshold condition.\n",
    "- `smooth`: the smoothing factor. Larger values would enlarge the masked regions, because the signal is smeared across more neighborhood pixels.\n",
    "- `mask=1`: the mask number. By default we start from `1`. However any other arbitrary integer value could be used.\n",
    "\n",
    "\n",
    "*The segmentation and the associated generated mask are plotted.*\n",
    "One may play with the input values to generate satisfactory initial masks."
   ]
  },
  {
   "cell_type": "code",
   "execution_count": null,
   "metadata": {},
   "outputs": [],
   "source": [
    "widget = obj.slider_naive_extractor()\n",
    "\n",
    "widgets.HBox(widget)"
   ]
  },
  {
   "cell_type": "code",
   "execution_count": null,
   "metadata": {},
   "outputs": [],
   "source": [
    "axes = obj.plot_naives_source_extract()"
   ]
  },
  {
   "cell_type": "markdown",
   "metadata": {},
   "source": [
    "## Running Elliprof\n",
    "\n",
    "Here, we run `elliprof` for the firt time. The initial mask that was generated above (e.g. mask=1) is utilized here and `model=0` is created. Usually, the Kron_radius factor is set to a value greater than 2 and smaller than 4.\n",
    "The main goal is to generate very crude model.\n",
    "\n",
    "- `r0`: Inner radius to fit\n",
    "- `r1`: Outer radius to fit, i.e. `obj.outerR(c_kron)`, where `outerR` takes the Kron radius factor and converts it to number of pixels\n",
    "- `c_kron`: Kron radius factor\n",
    "- `sky`: sky value, which is roughly about 90% of the median of the values of the background pixels. *Note:* The sky level would be fine tuned later.\n",
    "- `k`: A factor to determine the number of fitting radii, i.e. `nr=(r1-r0)/k`\n",
    "- `options`: Any other that `elliprof` accepts. \n",
    "\n",
    "\n",
    "**Note:** The following sliders control parameters for the inital run of elliprof"
   ]
  },
  {
   "cell_type": "code",
   "execution_count": null,
   "metadata": {},
   "outputs": [],
   "source": [
    "widget = obj.basic_elliprof_widget()\n",
    "\n",
    "widgets.VBox(widget)"
   ]
  },
  {
   "cell_type": "code",
   "execution_count": null,
   "metadata": {},
   "outputs": [],
   "source": [
    "_ = obj.basic_elliprof()"
   ]
  },
  {
   "cell_type": "markdown",
   "metadata": {},
   "source": [
    "## Second round of elliprof\n",
    "\n",
    "Here, we use the primary model that we generated in the previous cell to cover the masked regions.\n",
    "Then we run Source Extractor for additional mask. The residuals of model=0 is used to create another mask. The initial mask can be further augmented with the mask we generate here.\n",
    "\n",
    "- `model=0`: initial profile model from the previous cell. The masked regions are replaced by this model\n",
    "- `model_mask`: the model that is used to patch the masked regions\n",
    "\n",
    "**Top**\n",
    "- Left: Red ellipse displays the galaxy border defined by Kron radius"
   ]
  },
  {
   "cell_type": "markdown",
   "metadata": {},
   "source": [
    "**Notes:**\n",
    "\n",
    "- Left Slider: Parameter to creat elliprof models\n",
    "\n",
    "- Right Slider: Parameters to run Source Extractor on the residual image for the purpose of generating additonal mask, i.e. `mask=2`\n",
    "\n",
    "- Sometimes, one has to iteratively gnerate `mask=2` and combine it with `mask1`. The resutls would be always stored in `mask=1`."
   ]
  },
  {
   "cell_type": "code",
   "execution_count": null,
   "metadata": {},
   "outputs": [],
   "source": [
    "s1, s2 = obj.second_elliprof_widget()\n",
    "\n",
    "box1 = widgets.VBox(s1)\n",
    "box2 = widgets.VBox(s2)\n",
    "\n",
    "widgets.HBox([box1,box2])"
   ]
  },
  {
   "cell_type": "code",
   "execution_count": null,
   "metadata": {},
   "outputs": [],
   "source": [
    "_ = obj.second_elliprof()\n",
    "\n",
    "checkbox = widgets.Checkbox(description='Combine Mask', value = False)\n",
    "checkbox"
   ]
  },
  {
   "cell_type": "markdown",
   "metadata": {},
   "source": [
    "**Note:** Use the above checkbox if you want to combine masks. This box always gets deactived when a new additiona mask (`mask=2`) is generated."
   ]
  },
  {
   "cell_type": "markdown",
   "metadata": {},
   "source": [
    "## Mask augmentation\n",
    "\n",
    "If we are happy with the additional mask we found above, we add these two masks and update the primary mask.\n",
    "After updating the mask (`mask=1`), the previous cell can be iteratively executed with updating the mask multiple time until we are satisfied."
   ]
  },
  {
   "cell_type": "code",
   "execution_count": null,
   "metadata": {},
   "outputs": [],
   "source": [
    "# combining mask1 and mask2 ----> mask1\n",
    "if checkbox.value==True:\n",
    "    obj.addMasks(maskList=[1,2], mask=1)"
   ]
  },
  {
   "cell_type": "code",
   "execution_count": null,
   "metadata": {},
   "outputs": [],
   "source": []
  },
  {
   "cell_type": "code",
   "execution_count": null,
   "metadata": {},
   "outputs": [],
   "source": [
    "fig, ax = plt.subplots(1, 1, figsize=(3.5, 3.5))\n",
    "ax = plt.gca()\n",
    "obj.tv_mask(mask=1, ax=ax)\n",
    "\n",
    "pngName = obj.objRoot+'/'+obj.name+'_combined_mask.png'\n",
    "plt.savefig(pngName)\n",
    "fig.tight_layout(pad=0)\n",
    "fig.canvas.toolbar_visible = False\n",
    "fig.canvas.header_visible = False\n",
    "fig.canvas.footer_visible = False"
   ]
  },
  {
   "cell_type": "code",
   "execution_count": null,
   "metadata": {},
   "outputs": [],
   "source": []
  },
  {
   "cell_type": "code",
   "execution_count": null,
   "metadata": {},
   "outputs": [],
   "source": []
  },
  {
   "cell_type": "markdown",
   "metadata": {},
   "source": [
    "## Updating the background level\n",
    "\n",
    "Here, we update the background factor, and regenerate the `elliprof` model until the median of the residual value of the background pixels is roughly zero. "
   ]
  },
  {
   "cell_type": "code",
   "execution_count": null,
   "metadata": {},
   "outputs": [],
   "source": [
    "## Updating background level?\n",
    "\n",
    "option = obj.params[\"second_elliprof\"][\"option\"]\n",
    "c_kron = obj.params[\"second_elliprof\"][\"c_kron\"]\n",
    "k = obj.params[\"second_elliprof\"][\"k_ellipse\"]\n",
    "\n",
    "r0         = obj.params[\"second_elliprof\"][\"r0\"] \n",
    "r1         = obj.outerR(c_kron)      \n",
    "nr         = int(np.round((r1-r0)/k))\n",
    "initial_sky_factor = obj.params[\"second_elliprof\"][\"sky_factor\"]\n",
    "\n",
    "# model #: the elliprof model id\n",
    "optimized_sky_factor = obj.optimize_sky_factor(initial_sky_factor, r0, r1, nr, options=option, model=999)   \n",
    "\n",
    "print(\"Optimized sky factor: \", \"%.3f\"%optimized_sky_factor)\n"
   ]
  },
  {
   "cell_type": "markdown",
   "metadata": {},
   "source": [
    "### Optimizing Sky Factor  with different input parameters\n",
    "\n",
    "The following block runs the optimziation code using various input parameters chosen randomly \n",
    "and each time returns the optimzized `sky_factor`"
   ]
  },
  {
   "cell_type": "code",
   "execution_count": null,
   "metadata": {},
   "outputs": [],
   "source": [
    "sky_optimize = widgets.Checkbox(description='Iterative Sky Oprtimizations', value = False)\n",
    "sky_optimize"
   ]
  },
  {
   "cell_type": "markdown",
   "metadata": {},
   "source": [
    "### Itereative Sky Optimization\n",
    "\n",
    "- Check the box to execute the following cell. \n",
    "- The following cell randomly draw input parameters, runs elliprof and optimizes the sky factor for each model.\n",
    "\n",
    "**Free Parameters:**\n",
    "\n",
    "- `n_iterations`: The number of iterations\n",
    "- `max_ellipse_crossing`: Maximum number of allowed ellipse intersections\n"
   ]
  },
  {
   "cell_type": "code",
   "execution_count": null,
   "metadata": {},
   "outputs": [],
   "source": [
    "n_iterations = 4*2          # 4*n (multiple of 4)\n",
    "max_ellipse_crossing = 3\n",
    "\n",
    "fmt_dict = {}\n",
    "key_list = []\n",
    "def dict_append(myDict, key, value, fmt):\n",
    "    \n",
    "    if key in myDict:\n",
    "        myDict[key].append(value)\n",
    "        fmt_dict[key].append(fmt)\n",
    "    else:\n",
    "        myDict[key] = [value]\n",
    "        fmt_dict[key] = [fmt]\n",
    "        key_list.append(key)\n",
    "\n",
    "    return myDict\n",
    "    \n",
    "outDict = {}\n",
    "df = None\n",
    "csv_name = obj.objRoot+'/'+obj.name+'_iterative_sky_optimizer.csv'\n",
    "s= \"\"\n",
    "\n",
    "if sky_optimize.value:\n",
    "    \n",
    "    i = 1\n",
    "\n",
    "    print(\"i, r0, r1, nr, n_cross, initial_sky_factor, final_sky_factor\")\n",
    "\n",
    "    while i<=n_iterations:\n",
    "\n",
    "        c_kron = obj.params[\"second_elliprof\"][\"c_kron\"] \n",
    "        option = obj.params[\"second_elliprof\"][\"option\"] \n",
    "\n",
    "        r0 = np.random.randint(8,15)\n",
    "        r1 = np.random.randint(obj.outerR(c_kron*0.9) , obj.outerR(c_kron*3))\n",
    "        k = np.random.randint(8,15)\n",
    "        nr = int(np.round((r1-r0)/k))\n",
    "        initial_sky_factor = np.random.uniform(0.75, 0.95)      # initial sky_factor to begin with\n",
    "\n",
    "        if i==1:\n",
    "            model_mask=0\n",
    "        else:\n",
    "            model_mask = 1000-i+1\n",
    "\n",
    "        final_sky_factor = obj.optimize_sky_factor(\n",
    "                                                   initial_sky_factor, r0, r1, nr, \n",
    "                                                   options=option, \n",
    "                                                   model_mask=model_mask,\n",
    "                                                   model=1000-i,\n",
    "                                                   verbose=False,\n",
    "                                                  )\n",
    "\n",
    "\n",
    "        if final_sky_factor!=0:\n",
    "\n",
    "            ## how many ellipses cross each other\n",
    "            n_cross = Xellipses(obj.list_ellipses(model=1000-i))\n",
    "\n",
    "            if n_cross<=max_ellipse_crossing:\n",
    "                print(i, r0, r1, nr, n_cross, '%.3f'%initial_sky_factor, '%.3f'%final_sky_factor)\n",
    "                \n",
    "                m = 1000-i\n",
    "                suffix = '.%03d'%m\n",
    "                residName = 'resid'+suffix\n",
    "                modelName = 'model'+suffix\n",
    "                ellipseFile = 'elliprof'+suffix\n",
    "                \n",
    "                outDict = dict_append(outDict, \"r0\", r0, \"%d\")\n",
    "                outDict = dict_append(outDict, \"r1\", r1, \"%d\")\n",
    "                outDict = dict_append(outDict, \"nr\", nr, \"%d\")\n",
    "                outDict = dict_append(outDict, \"n_cross\", n_cross, \"%d\")\n",
    "                outDict = dict_append(outDict, \"sky_median\", obj.sky_med, \"%.2f\")\n",
    "                outDict = dict_append(outDict, \"initial_sky_factor\", initial_sky_factor, \"%.2f\")\n",
    "                outDict = dict_append(outDict, \"final_sky_factor\", final_sky_factor, \"%.2f\")\n",
    "                outDict = dict_append(outDict, \"final_sky\", np.round(final_sky_factor*obj.sky_med), \"%d\")\n",
    "                outDict = dict_append(outDict, \"option\", option, \"%7s\")\n",
    "                outDict = dict_append(outDict, \"model_mask\", model_mask, \"%d\")\n",
    "                outDict = dict_append(outDict, \"model_no\", 1000-i, \"%d\")\n",
    "                outDict = dict_append(outDict, \"object_root\", obj.objRoot, \"%25s\")\n",
    "                outDict = dict_append(outDict, \"residual_file\", residName, \"%10s\")\n",
    "                outDict = dict_append(outDict, \"model_file\", modelName, \"%10s\")\n",
    "                outDict = dict_append(outDict, \"ellipse_file\", ellipseFile, \"%10s\")\n",
    "                                \n",
    "                i+=1\n",
    "         \n",
    "    \n",
    "    print(\"\\n#########################\\n\")\n",
    "    \n",
    "    df = pd.DataFrame.from_dict(outDict)\n",
    "    df.to_csv(csv_name, sep=',')\n",
    "\n",
    "###################################\n",
    "if os.path.exists(csv_name):\n",
    "        df = pd.read_csv(csv_name)\n",
    "        display(df)"
   ]
  },
  {
   "cell_type": "markdown",
   "metadata": {},
   "source": [
    "### Generating plots\n",
    "\n",
    "If the above optimization process has been already executed !"
   ]
  },
  {
   "cell_type": "code",
   "execution_count": null,
   "metadata": {},
   "outputs": [],
   "source": [
    "plot_scale = 'sqrt'    # 'log'\n",
    "csv_name = obj.objRoot+'/'+obj.name+'_iterative_sky_optimizer.csv'\n",
    "\n",
    "ncols = 3\n",
    "\n",
    "if exists(csv_name):\n",
    "    \n",
    "    df = pd.read_csv(csv_name)\n",
    "    display(df)\n",
    "    \n",
    "    for col in df.columns:\n",
    "        df = df.rename(columns={col:col.strip()})\n",
    "    \n",
    "    \n",
    "    n = len(df)\n",
    "    nrows = n//ncols\n",
    "    if n%ncols != 0: nrows += 1\n",
    "\n",
    "    fig, axes = plt.subplots(nrows=nrows, ncols=ncols, figsize=(10, 10)) \n",
    "    axes = axes.reshape((nrows, ncols))\n",
    "\n",
    "    t = 0 \n",
    "    for i in range(nrows):\n",
    "        for j in range(ncols):\n",
    "            \n",
    "            if t>=n:\n",
    "                continue\n",
    "\n",
    "            ax = axes[i][j]\n",
    "            model_no = df[\"model_no\"][t]\n",
    "            op_sky_f = df[\"final_sky_factor\"][t]\n",
    "            obj.tv_resid(model=model_no, ax = ax, options=plot_scale)\n",
    "            ax.set_title(\"model: %d, Op_Sky_f: %.2f\"%(model_no, op_sky_f))\n",
    "            \n",
    "            Ylm = ax.get_ylim() ; Xlm = ax.get_xlim()\n",
    "            x0 = 0.9*Xlm[0]+0.1*Xlm[1]\n",
    "            y0 = 0.9*Ylm[0]+0.1*Ylm[1]\n",
    "            ax.text(x0, y0, \"Sky: %d\"%np.round(obj.sky_med*op_sky_f), color=\"cyan\", fontsize=14)\n",
    "                \n",
    "            t+=1\n",
    "    \n",
    "#     print(df[[\"r0\", \"r1\", \"nr\", \"n_cross\"]\n",
    "#              +[x for x in df.columns if 'final' in x]\n",
    "#              +[\"model_no\"]])  \n",
    "    \n",
    "    final_sky_factors = df[\"final_sky_factor\"].values\n",
    "    \n",
    "    med_sky_factor = np.median(final_sky_factors)\n",
    "    med_sky = np.round(np.median(final_sky_factors)*obj.sky_med)\n",
    "    std_sky = np.std(final_sky_factors*obj.sky_med)\n",
    "    \n",
    "    print(\"[SKY factor] median: %.3f\"%med_sky_factor)\n",
    "    print(\"[SKY] median: %.d\"%med_sky)\n",
    "    print(\"[SKY] standard deviation : %d\"%std_sky)\n",
    "\n",
    "    fig.tight_layout(pad=0)\n",
    "    try: \n",
    "        fig.canvas.layout.width = '1000px'  # Set width to match figsize\n",
    "        fig.canvas.layout.height = '1000px'  # Set height to match figsize\n",
    "        fig.canvas.toolbar_visible = False\n",
    "        fig.canvas.header_visible = False\n",
    "        fig.canvas.footer_visible = False\n",
    "    except:\n",
    "        pass"
   ]
  },
  {
   "cell_type": "markdown",
   "metadata": {},
   "source": [
    "# Decide what `sky_factor` to use !\n",
    " \n",
    "### This is still manual !!!\n",
    "and requires the user to decide what vlaue by using the optimization procedure or other methods\n",
    "\n",
    "- Use either cells, to enter your desired sky_factor, or the sky level. \n",
    "- In the end, the sky background level is converted into a sky_factor parameter "
   ]
  },
  {
   "cell_type": "code",
   "execution_count": null,
   "metadata": {},
   "outputs": [],
   "source": [
    "med_sky_factor = 0.9\n",
    "med_sky = 2729"
   ]
  },
  {
   "cell_type": "code",
   "execution_count": null,
   "metadata": {},
   "outputs": [],
   "source": [
    "s_factor = widgets.FloatSlider(value=med_sky_factor, min=0, max=1.2,step=0.01, description=\"Sky_factor\")\n",
    "s_value = widgets.Text(value=str(int(med_sky)), description=\"Sky Value\")\n",
    "\n",
    "def factor_func(change):\n",
    "    s_value.value = str(int(float(s_factor.value)*obj.sky_med))\n",
    "\n",
    "\n",
    "def value_func(change):\n",
    "    s_factor.value = str(float(s_value.value) / obj.sky_med)\n",
    "    \n",
    "s_factor.observe(factor_func , names='value')\n",
    "s_value.observe(value_func , names='value')\n",
    "\n",
    "widgets.VBox([s_factor, s_value])"
   ]
  },
  {
   "cell_type": "code",
   "execution_count": null,
   "metadata": {},
   "outputs": [],
   "source": []
  },
  {
   "cell_type": "code",
   "execution_count": null,
   "metadata": {},
   "outputs": [],
   "source": [
    "sky_factor = float(s_factor.value)\n",
    "sky = int(s_value.value)\n",
    "\n",
    "    \n",
    "print(\"[SKY factor]: %.3f\"%sky_factor)\n",
    "print(\"[SKY]: %.d\"%sky)"
   ]
  },
  {
   "cell_type": "markdown",
   "metadata": {},
   "source": [
    "## Plotting the light profile\n",
    "\n",
    "So far, we found the optimum **sky factor** and the `initial mask`.\n",
    "`r0` and `r1` has been chosen by user iteratively to get reasonable results.\n",
    "\n",
    "Now, we visualize the light profile of galaxy and the residual image for the final check.\n",
    "\n",
    "In the following plot we have\n",
    "- **Left:** The light profile. Each point show the surface brightness on an ellipse. The horizontal axis is scaled to accommodate the `r^1/4` form. Open black circles represent the region used to find the red dotted line in a least square process. This linear fit is extrapolated towards larger radii to examine the behavior of the outer region. If a galaxy follows a pure `r^1/4`, all outer point must fall on the fitted line.\n",
    "\n",
    "- **Right:** The residual image, which is generated by subtracting the primary model from the galaxy image. Red concentric ellipse are the ellipses. Yellow circles represent the region used for the linear fit in the left panel."
   ]
  },
  {
   "cell_type": "code",
   "execution_count": null,
   "metadata": {},
   "outputs": [],
   "source": []
  },
  {
   "cell_type": "markdown",
   "metadata": {},
   "source": [
    "- Choosing the radius range to fit a line on the surface brightness"
   ]
  },
  {
   "cell_type": "code",
   "execution_count": null,
   "metadata": {},
   "outputs": [],
   "source": [
    "my_widget = widgets.IntRangeSlider(\n",
    "                    value=[70, 90],\n",
    "                    min=0,\n",
    "                    max=100,\n",
    "                    step=1,\n",
    "                    description=\"Range (%)\",\n",
    "                )\n",
    "my_widget"
   ]
  },
  {
   "cell_type": "code",
   "execution_count": null,
   "metadata": {},
   "outputs": [],
   "source": [
    "main_key = \"second_elliprof\"\n",
    "\n",
    "# extracting parameter\n",
    "# feel free to use other parameters too\n",
    "r0 = obj.params[main_key][\"r0\"]\n",
    "c_kron = obj.params[main_key][\"c_kron\"]\n",
    "r1 = obj.outerR(c_kron)\n",
    "k = obj.params[main_key][\"k_ellipse\"]\n",
    "nr = int(np.round((r1 - r0) / k))\n",
    "options = obj.params[main_key][\"option\"]\n",
    "\n",
    "# plotting\n",
    "\n",
    "axes = obj.plot_profile(sky_factor, r0, r1, nr, options=options, fit_imits=my_widget.value)"
   ]
  },
  {
   "cell_type": "markdown",
   "metadata": {},
   "source": [
    "## Visualizing the background histogram\n",
    "\n",
    "In the following cell, the distribution of the residual values of the background pixels is plotted.\n",
    "In the case of having a good model and sky value, the median/mean values of the residuals should be close to zero.\n",
    "\n",
    "**Note:** Sometimes, very bright objects must be masked out manually to makes sure that there no contamination from such objects, otherwise the background must have been over-estimated."
   ]
  },
  {
   "cell_type": "code",
   "execution_count": null,
   "metadata": {},
   "outputs": [],
   "source": [
    "_ = obj.plot_back_histogram(sky_factor)"
   ]
  },
  {
   "cell_type": "markdown",
   "metadata": {},
   "source": [
    "## Saving the model\n",
    "\n",
    "Here, we store all metadata and other information on disk to be used in other steps."
   ]
  },
  {
   "cell_type": "code",
   "execution_count": null,
   "metadata": {},
   "outputs": [],
   "source": [
    "df = obj.save_log(sky_factor)\n",
    "\n",
    "df"
   ]
  },
  {
   "cell_type": "code",
   "execution_count": null,
   "metadata": {},
   "outputs": [],
   "source": []
  },
  {
   "cell_type": "code",
   "execution_count": null,
   "metadata": {},
   "outputs": [],
   "source": []
  },
  {
   "cell_type": "code",
   "execution_count": null,
   "metadata": {},
   "outputs": [],
   "source": []
  },
  {
   "cell_type": "code",
   "execution_count": null,
   "metadata": {},
   "outputs": [],
   "source": []
  }
 ],
 "metadata": {
  "kernelspec": {
   "display_name": "Python 3 (ipykernel)",
   "language": "python",
   "name": "python3"
  },
  "language_info": {
   "codemirror_mode": {
    "name": "ipython",
    "version": 3
   },
   "file_extension": ".py",
   "mimetype": "text/x-python",
   "name": "python",
   "nbconvert_exporter": "python",
   "pygments_lexer": "ipython3",
   "version": "3.12.7"
  },
  "widgets": {
   "application/vnd.jupyter.widget-state+json": {
    "state": {
     "0d4c32aaa4c74818be11522628987c46": {
      "model_module": "@jupyter-widgets/base",
      "model_module_version": "2.0.0",
      "model_name": "LayoutModel",
      "state": {}
     },
     "0e4291ba74ca49be9f48ae07b24e4d73": {
      "model_module": "@jupyter-widgets/controls",
      "model_module_version": "2.0.0",
      "model_name": "SliderStyleModel",
      "state": {
       "description_width": ""
      }
     },
     "0ebf01ce99e34ef1a6ac97f6b8133bfa": {
      "model_module": "@jupyter-widgets/controls",
      "model_module_version": "2.0.0",
      "model_name": "SliderStyleModel",
      "state": {
       "description_width": ""
      }
     },
     "17e9ae776d17416598db909b76e2398d": {
      "model_module": "@jupyter-widgets/controls",
      "model_module_version": "2.0.0",
      "model_name": "VBoxModel",
      "state": {
       "children": [
        "IPY_MODEL_64df95a8f7de4aa787c3c743ee7ee337",
        "IPY_MODEL_63d00f7caee14a2a86a1cd3201517b38",
        "IPY_MODEL_99859d141a044a8f8799b85f8757f761",
        "IPY_MODEL_4b37ae33a69645bb9048d05b63992ad9",
        "IPY_MODEL_e1f04c625c8d4f5f9928f24501c462da"
       ],
       "layout": "IPY_MODEL_5d50d5a156b64ab097d4f5c94cbb081f"
      }
     },
     "19cff0daaeaf4a7492d1c003d074ee47": {
      "model_module": "@jupyter-widgets/controls",
      "model_module_version": "2.0.0",
      "model_name": "SliderStyleModel",
      "state": {
       "description_width": ""
      }
     },
     "1e8ddc7e21934a3db3be851b3ab34a51": {
      "model_module": "@jupyter-widgets/controls",
      "model_module_version": "2.0.0",
      "model_name": "HBoxModel",
      "state": {
       "children": [
        "IPY_MODEL_830e43b714fb47ee966fbca1fa764e81",
        "IPY_MODEL_2e37bbf8eb104502bd9b9213c56a1008",
        "IPY_MODEL_2bf53dd35462457ebef534c107c8d7b8"
       ],
       "layout": "IPY_MODEL_c85584dfb3bc4acca5a811da28b06046"
      }
     },
     "21ea7a793731405d803f4bd518e93870": {
      "model_module": "@jupyter-widgets/controls",
      "model_module_version": "2.0.0",
      "model_name": "DescriptionStyleModel",
      "state": {
       "description_width": ""
      }
     },
     "23b0a691915b4c66829c7bc3e3013ef9": {
      "model_module": "@jupyter-widgets/base",
      "model_module_version": "2.0.0",
      "model_name": "LayoutModel",
      "state": {}
     },
     "28807f53edfe47b291b73870101d1b4a": {
      "model_module": "@jupyter-widgets/controls",
      "model_module_version": "2.0.0",
      "model_name": "HBoxModel",
      "state": {
       "children": [
        "IPY_MODEL_c164388fdd1d4a4f9ea1d47a6d7d78c8"
       ],
       "layout": "IPY_MODEL_7164b762a50045b29cf19cc2967a6252"
      }
     },
     "28a3060a292646518749d84661baf635": {
      "model_module": "@jupyter-widgets/controls",
      "model_module_version": "2.0.0",
      "model_name": "FloatSliderModel",
      "state": {
       "behavior": "drag-tap",
       "description": "Smooth",
       "layout": "IPY_MODEL_44ee4729d6574fb9bca6c6e187a4c763",
       "max": 10,
       "min": 1,
       "step": 0.5,
       "style": "IPY_MODEL_30fca971acdb42418a5eec9981bfe888",
       "value": 5
      }
     },
     "2bf53dd35462457ebef534c107c8d7b8": {
      "model_module": "@jupyter-widgets/controls",
      "model_module_version": "2.0.0",
      "model_name": "FloatSliderModel",
      "state": {
       "behavior": "drag-tap",
       "description": "Smooth",
       "layout": "IPY_MODEL_c3909ee316964d44bf09a687151f8e15",
       "max": 10,
       "min": 1,
       "step": 0.5,
       "style": "IPY_MODEL_4fbe4a5944694bfb99a90dc48b63e556",
       "value": 5
      }
     },
     "2e37bbf8eb104502bd9b9213c56a1008": {
      "model_module": "@jupyter-widgets/controls",
      "model_module_version": "2.0.0",
      "model_name": "FloatSliderModel",
      "state": {
       "behavior": "drag-tap",
       "description": "Threshold",
       "layout": "IPY_MODEL_5116533b157a4404980e383073942175",
       "max": 5,
       "min": 0.5,
       "step": 0.1,
       "style": "IPY_MODEL_0e4291ba74ca49be9f48ae07b24e4d73",
       "value": 3
      }
     },
     "30fca971acdb42418a5eec9981bfe888": {
      "model_module": "@jupyter-widgets/controls",
      "model_module_version": "2.0.0",
      "model_name": "SliderStyleModel",
      "state": {
       "description_width": ""
      }
     },
     "3366847236f9421bb5439252ab2ca9b3": {
      "model_module": "@jupyter-widgets/base",
      "model_module_version": "2.0.0",
      "model_name": "LayoutModel",
      "state": {}
     },
     "3c676548cd284521934ff7bfc5947ed8": {
      "model_module": "@jupyter-widgets/base",
      "model_module_version": "2.0.0",
      "model_name": "LayoutModel",
      "state": {}
     },
     "4346aa8d06564497b73bb609c7ef311b": {
      "model_module": "@jupyter-widgets/controls",
      "model_module_version": "2.0.0",
      "model_name": "FloatSliderModel",
      "state": {
       "behavior": "drag-tap",
       "description": "Sky_factor",
       "layout": "IPY_MODEL_6300307f22004785a05400b850395293",
       "max": 1.2,
       "min": 0.1,
       "step": 0.01,
       "style": "IPY_MODEL_c4aaf2860fa14701a24522978063bcef",
       "value": 0.9
      }
     },
     "446621c8c0fa4f7897a0c0dbc8e17031": {
      "model_module": "@jupyter-widgets/controls",
      "model_module_version": "2.0.0",
      "model_name": "SliderStyleModel",
      "state": {
       "description_width": ""
      }
     },
     "44e1b368098f4eebbbd29ed3095e2177": {
      "model_module": "@jupyter-widgets/controls",
      "model_module_version": "2.0.0",
      "model_name": "FloatSliderModel",
      "state": {
       "behavior": "drag-tap",
       "description": "Kron_factor",
       "layout": "IPY_MODEL_5eca3ef6dba548da9dff715c48e714c2",
       "max": 7,
       "min": 0.5,
       "step": 0.1,
       "style": "IPY_MODEL_746a19d01fbb414bb72733872cd9a69d",
       "value": 2.5
      }
     },
     "44ee4729d6574fb9bca6c6e187a4c763": {
      "model_module": "@jupyter-widgets/base",
      "model_module_version": "2.0.0",
      "model_name": "LayoutModel",
      "state": {}
     },
     "456d1aa9b762418aaa63ad5acb7085cf": {
      "model_module": "@jupyter-widgets/controls",
      "model_module_version": "2.0.0",
      "model_name": "SliderStyleModel",
      "state": {
       "description_width": ""
      }
     },
     "4a701224115343599e59310087ed5887": {
      "model_module": "@jupyter-widgets/controls",
      "model_module_version": "2.0.0",
      "model_name": "SliderStyleModel",
      "state": {
       "description_width": ""
      }
     },
     "4b37ae33a69645bb9048d05b63992ad9": {
      "model_module": "@jupyter-widgets/controls",
      "model_module_version": "2.0.0",
      "model_name": "FloatSliderModel",
      "state": {
       "behavior": "drag-tap",
       "description": "k",
       "layout": "IPY_MODEL_9b091dfbdceb42e08f63cc86190a2170",
       "max": 50,
       "min": 5,
       "style": "IPY_MODEL_446621c8c0fa4f7897a0c0dbc8e17031",
       "value": 15
      }
     },
     "4c1713b9fb844f30a2a41bc6fefe43bc": {
      "model_module": "@jupyter-widgets/controls",
      "model_module_version": "2.0.0",
      "model_name": "SliderStyleModel",
      "state": {
       "description_width": ""
      }
     },
     "4fbe4a5944694bfb99a90dc48b63e556": {
      "model_module": "@jupyter-widgets/controls",
      "model_module_version": "2.0.0",
      "model_name": "SliderStyleModel",
      "state": {
       "description_width": ""
      }
     },
     "501633cd1a6845a8b8a9e0274db9aa2d": {
      "model_module": "@jupyter-widgets/base",
      "model_module_version": "2.0.0",
      "model_name": "LayoutModel",
      "state": {}
     },
     "50417bbcf5f348a5b4e2de49669f7479": {
      "model_module": "@jupyter-widgets/base",
      "model_module_version": "2.0.0",
      "model_name": "LayoutModel",
      "state": {}
     },
     "50b03dff8d094c8680c53bd87bf45d12": {
      "model_module": "@jupyter-widgets/controls",
      "model_module_version": "2.0.0",
      "model_name": "FloatSliderModel",
      "state": {
       "behavior": "drag-tap",
       "description": "Threshold",
       "layout": "IPY_MODEL_c1fe079200274152b28ecea4d1928c1e",
       "max": 5,
       "min": 0.5,
       "step": 0.1,
       "style": "IPY_MODEL_456d1aa9b762418aaa63ad5acb7085cf",
       "value": 3
      }
     },
     "510459f48d8545d9a412ab7110e1d1f5": {
      "model_module": "@jupyter-widgets/base",
      "model_module_version": "2.0.0",
      "model_name": "LayoutModel",
      "state": {}
     },
     "5116533b157a4404980e383073942175": {
      "model_module": "@jupyter-widgets/base",
      "model_module_version": "2.0.0",
      "model_name": "LayoutModel",
      "state": {}
     },
     "5d50d5a156b64ab097d4f5c94cbb081f": {
      "model_module": "@jupyter-widgets/base",
      "model_module_version": "2.0.0",
      "model_name": "LayoutModel",
      "state": {}
     },
     "5eca3ef6dba548da9dff715c48e714c2": {
      "model_module": "@jupyter-widgets/base",
      "model_module_version": "2.0.0",
      "model_name": "LayoutModel",
      "state": {}
     },
     "5f538f6422724adcb9916162b084a704": {
      "model_module": "@jupyter-widgets/controls",
      "model_module_version": "2.0.0",
      "model_name": "CheckboxStyleModel",
      "state": {
       "description_width": ""
      }
     },
     "5fcc48e5e1ba4544817726ad43870b18": {
      "model_module": "@jupyter-widgets/base",
      "model_module_version": "2.0.0",
      "model_name": "LayoutModel",
      "state": {}
     },
     "6300307f22004785a05400b850395293": {
      "model_module": "@jupyter-widgets/base",
      "model_module_version": "2.0.0",
      "model_name": "LayoutModel",
      "state": {}
     },
     "63d00f7caee14a2a86a1cd3201517b38": {
      "model_module": "@jupyter-widgets/controls",
      "model_module_version": "2.0.0",
      "model_name": "FloatSliderModel",
      "state": {
       "behavior": "drag-tap",
       "description": "Kron_factor",
       "layout": "IPY_MODEL_a434f7dbad5049309b18dfb54ba58a5f",
       "max": 7,
       "min": 0.5,
       "step": 0.1,
       "style": "IPY_MODEL_dc58f01f23664fc386f2564e80e4b265",
       "value": 2.5
      }
     },
     "64df95a8f7de4aa787c3c743ee7ee337": {
      "model_module": "@jupyter-widgets/controls",
      "model_module_version": "2.0.0",
      "model_name": "FloatSliderModel",
      "state": {
       "behavior": "drag-tap",
       "description": "r0 [pixel]",
       "layout": "IPY_MODEL_ee514c56bf1b48a59f9d3c71ccd446ab",
       "max": 200,
       "min": 3,
       "style": "IPY_MODEL_4c1713b9fb844f30a2a41bc6fefe43bc",
       "value": 9
      }
     },
     "687ab2cd9ee04c078b1a9b9a3f4748ea": {
      "model_module": "@jupyter-widgets/controls",
      "model_module_version": "2.0.0",
      "model_name": "FloatSliderModel",
      "state": {
       "behavior": "drag-tap",
       "description": "r0 [pixel]",
       "layout": "IPY_MODEL_6dcebc5641a245499cd7505e7f82f3a7",
       "max": 200,
       "min": 3,
       "style": "IPY_MODEL_bfc4792154374447bf1e3e004cfd4681",
       "value": 9
      }
     },
     "6dcebc5641a245499cd7505e7f82f3a7": {
      "model_module": "@jupyter-widgets/base",
      "model_module_version": "2.0.0",
      "model_name": "LayoutModel",
      "state": {}
     },
     "6e4550a617ba4f2b9513fb6195f506a8": {
      "model_module": "@jupyter-widgets/controls",
      "model_module_version": "2.0.0",
      "model_name": "DescriptionStyleModel",
      "state": {
       "description_width": ""
      }
     },
     "6fe6d6011b5e46428a7f97ab180d812e": {
      "model_module": "@jupyter-widgets/controls",
      "model_module_version": "2.0.0",
      "model_name": "DropdownModel",
      "state": {
       "_options_labels": [
        "COS3X=0",
        "COS3X=1",
        "COS3X=2",
        "COS4X=1",
        "COS4X=2",
        "COS3X=-1",
        "COS3X=-2"
       ],
       "description": "Mode",
       "index": 0,
       "layout": "IPY_MODEL_d519598d80034d9cbb3a78b739986148",
       "style": "IPY_MODEL_21ea7a793731405d803f4bd518e93870"
      }
     },
     "7164b762a50045b29cf19cc2967a6252": {
      "model_module": "@jupyter-widgets/base",
      "model_module_version": "2.0.0",
      "model_name": "LayoutModel",
      "state": {}
     },
     "73031029c49847c79dd1206a3e007df7": {
      "model_module": "@jupyter-widgets/base",
      "model_module_version": "2.0.0",
      "model_name": "LayoutModel",
      "state": {}
     },
     "746a19d01fbb414bb72733872cd9a69d": {
      "model_module": "@jupyter-widgets/controls",
      "model_module_version": "2.0.0",
      "model_name": "SliderStyleModel",
      "state": {
       "description_width": ""
      }
     },
     "830e43b714fb47ee966fbca1fa764e81": {
      "model_module": "@jupyter-widgets/controls",
      "model_module_version": "2.0.0",
      "model_name": "FloatSliderModel",
      "state": {
       "behavior": "drag-tap",
       "description": "Min_Area",
       "layout": "IPY_MODEL_5fcc48e5e1ba4544817726ad43870b18",
       "max": 1000,
       "min": 5,
       "style": "IPY_MODEL_0ebf01ce99e34ef1a6ac97f6b8133bfa",
       "value": 200
      }
     },
     "883de52685384b0fb0f829b959592c20": {
      "model_module": "@jupyter-widgets/base",
      "model_module_version": "2.0.0",
      "model_name": "LayoutModel",
      "state": {}
     },
     "8b2449adfd6f429a8e180fdaf4e03980": {
      "model_module": "@jupyter-widgets/base",
      "model_module_version": "2.0.0",
      "model_name": "LayoutModel",
      "state": {}
     },
     "8cac76dcec1b4756aa212c4a4dd2df80": {
      "model_module": "@jupyter-widgets/controls",
      "model_module_version": "2.0.0",
      "model_name": "SliderStyleModel",
      "state": {
       "description_width": ""
      }
     },
     "970a458d06ab40d79f8973963972d46f": {
      "model_module": "@jupyter-widgets/controls",
      "model_module_version": "2.0.0",
      "model_name": "FloatSliderModel",
      "state": {
       "behavior": "drag-tap",
       "description": "Min_Area",
       "layout": "IPY_MODEL_3366847236f9421bb5439252ab2ca9b3",
       "max": 1000,
       "min": 5,
       "style": "IPY_MODEL_4a701224115343599e59310087ed5887",
       "value": 300.00000000000006
      }
     },
     "99859d141a044a8f8799b85f8757f761": {
      "model_module": "@jupyter-widgets/controls",
      "model_module_version": "2.0.0",
      "model_name": "FloatSliderModel",
      "state": {
       "behavior": "drag-tap",
       "description": "Sky_factor",
       "layout": "IPY_MODEL_501633cd1a6845a8b8a9e0274db9aa2d",
       "max": 1.2,
       "min": 0.1,
       "step": 0.05,
       "style": "IPY_MODEL_19cff0daaeaf4a7492d1c003d074ee47",
       "value": 0.9
      }
     },
     "9b091dfbdceb42e08f63cc86190a2170": {
      "model_module": "@jupyter-widgets/base",
      "model_module_version": "2.0.0",
      "model_name": "LayoutModel",
      "state": {}
     },
     "a434f7dbad5049309b18dfb54ba58a5f": {
      "model_module": "@jupyter-widgets/base",
      "model_module_version": "2.0.0",
      "model_name": "LayoutModel",
      "state": {}
     },
     "af1e8eb587eb414298f5b2db91c136fa": {
      "model_module": "@jupyter-widgets/controls",
      "model_module_version": "2.0.0",
      "model_name": "CheckboxModel",
      "state": {
       "description": "Combine Mask",
       "disabled": false,
       "layout": "IPY_MODEL_73031029c49847c79dd1206a3e007df7",
       "style": "IPY_MODEL_5f538f6422724adcb9916162b084a704",
       "value": false
      }
     },
     "b714b7ab7b294e998a1f712b59eb7d7f": {
      "model_module": "@jupyter-widgets/controls",
      "model_module_version": "2.0.0",
      "model_name": "VBoxModel",
      "state": {
       "children": [
        "IPY_MODEL_970a458d06ab40d79f8973963972d46f",
        "IPY_MODEL_50b03dff8d094c8680c53bd87bf45d12",
        "IPY_MODEL_28a3060a292646518749d84661baf635",
        "IPY_MODEL_fdee220d6f6f4be9b78a07f5c24f03c3"
       ],
       "layout": "IPY_MODEL_8b2449adfd6f429a8e180fdaf4e03980"
      }
     },
     "bfc4792154374447bf1e3e004cfd4681": {
      "model_module": "@jupyter-widgets/controls",
      "model_module_version": "2.0.0",
      "model_name": "SliderStyleModel",
      "state": {
       "description_width": ""
      }
     },
     "c164388fdd1d4a4f9ea1d47a6d7d78c8": {
      "model_module": "@jupyter-widgets/controls",
      "model_module_version": "2.0.0",
      "model_name": "FloatSliderModel",
      "state": {
       "behavior": "drag-tap",
       "description": "Threshold",
       "layout": "IPY_MODEL_3c676548cd284521934ff7bfc5947ed8",
       "max": 0.16,
       "min": 0.01,
       "step": 0.01,
       "style": "IPY_MODEL_8cac76dcec1b4756aa212c4a4dd2df80",
       "value": 0.03
      }
     },
     "c1fe079200274152b28ecea4d1928c1e": {
      "model_module": "@jupyter-widgets/base",
      "model_module_version": "2.0.0",
      "model_name": "LayoutModel",
      "state": {}
     },
     "c3909ee316964d44bf09a687151f8e15": {
      "model_module": "@jupyter-widgets/base",
      "model_module_version": "2.0.0",
      "model_name": "LayoutModel",
      "state": {}
     },
     "c3a3706f1aa7449888a6a2275719826b": {
      "model_module": "@jupyter-widgets/controls",
      "model_module_version": "2.0.0",
      "model_name": "FloatSliderModel",
      "state": {
       "behavior": "drag-tap",
       "description": "k",
       "layout": "IPY_MODEL_50417bbcf5f348a5b4e2de49669f7479",
       "max": 50,
       "min": 5,
       "style": "IPY_MODEL_f7baebb1f1154106ba855ab272990169",
       "value": 15
      }
     },
     "c4aaf2860fa14701a24522978063bcef": {
      "model_module": "@jupyter-widgets/controls",
      "model_module_version": "2.0.0",
      "model_name": "SliderStyleModel",
      "state": {
       "description_width": ""
      }
     },
     "c85584dfb3bc4acca5a811da28b06046": {
      "model_module": "@jupyter-widgets/base",
      "model_module_version": "2.0.0",
      "model_name": "LayoutModel",
      "state": {}
     },
     "d1d271ebe7bb4ba3bfc24d423818be72": {
      "model_module": "@jupyter-widgets/controls",
      "model_module_version": "2.0.0",
      "model_name": "CheckboxStyleModel",
      "state": {
       "description_width": ""
      }
     },
     "d519598d80034d9cbb3a78b739986148": {
      "model_module": "@jupyter-widgets/base",
      "model_module_version": "2.0.0",
      "model_name": "LayoutModel",
      "state": {}
     },
     "dc58f01f23664fc386f2564e80e4b265": {
      "model_module": "@jupyter-widgets/controls",
      "model_module_version": "2.0.0",
      "model_name": "SliderStyleModel",
      "state": {
       "description_width": ""
      }
     },
     "e16ecd92e5734cde9bcc8440bf426a74": {
      "model_module": "@jupyter-widgets/controls",
      "model_module_version": "2.0.0",
      "model_name": "HBoxModel",
      "state": {
       "children": [
        "IPY_MODEL_fc46bb845ee84d5798d044510bbc14a5",
        "IPY_MODEL_b714b7ab7b294e998a1f712b59eb7d7f"
       ],
       "layout": "IPY_MODEL_510459f48d8545d9a412ab7110e1d1f5"
      }
     },
     "e1f04c625c8d4f5f9928f24501c462da": {
      "model_module": "@jupyter-widgets/controls",
      "model_module_version": "2.0.0",
      "model_name": "DropdownModel",
      "state": {
       "_options_labels": [
        "COS3X=0",
        "COS3X=1",
        "COS3X=2",
        "COS4X=1",
        "COS4X=2",
        "COS3X=-1",
        "COS3X=-2"
       ],
       "description": "Mode",
       "index": 0,
       "layout": "IPY_MODEL_ea364f2d59714b5ea83680368d7e166e",
       "style": "IPY_MODEL_6e4550a617ba4f2b9513fb6195f506a8"
      }
     },
     "e946c6fd34f9484198620ef18b4f0c3e": {
      "model_module": "@jupyter-widgets/controls",
      "model_module_version": "2.0.0",
      "model_name": "CheckboxModel",
      "state": {
       "description": "Force New Session",
       "disabled": false,
       "layout": "IPY_MODEL_0d4c32aaa4c74818be11522628987c46",
       "style": "IPY_MODEL_d1d271ebe7bb4ba3bfc24d423818be72",
       "value": false
      }
     },
     "ea364f2d59714b5ea83680368d7e166e": {
      "model_module": "@jupyter-widgets/base",
      "model_module_version": "2.0.0",
      "model_name": "LayoutModel",
      "state": {}
     },
     "ec4759d4867d448fabdc74d3212210b5": {
      "model_module": "@jupyter-widgets/controls",
      "model_module_version": "2.0.0",
      "model_name": "SliderStyleModel",
      "state": {
       "description_width": ""
      }
     },
     "ee514c56bf1b48a59f9d3c71ccd446ab": {
      "model_module": "@jupyter-widgets/base",
      "model_module_version": "2.0.0",
      "model_name": "LayoutModel",
      "state": {}
     },
     "f7baebb1f1154106ba855ab272990169": {
      "model_module": "@jupyter-widgets/controls",
      "model_module_version": "2.0.0",
      "model_name": "SliderStyleModel",
      "state": {
       "description_width": ""
      }
     },
     "fc46bb845ee84d5798d044510bbc14a5": {
      "model_module": "@jupyter-widgets/controls",
      "model_module_version": "2.0.0",
      "model_name": "VBoxModel",
      "state": {
       "children": [
        "IPY_MODEL_687ab2cd9ee04c078b1a9b9a3f4748ea",
        "IPY_MODEL_44e1b368098f4eebbbd29ed3095e2177",
        "IPY_MODEL_4346aa8d06564497b73bb609c7ef311b",
        "IPY_MODEL_c3a3706f1aa7449888a6a2275719826b",
        "IPY_MODEL_6fe6d6011b5e46428a7f97ab180d812e"
       ],
       "layout": "IPY_MODEL_883de52685384b0fb0f829b959592c20"
      }
     },
     "fdee220d6f6f4be9b78a07f5c24f03c3": {
      "model_module": "@jupyter-widgets/controls",
      "model_module_version": "2.0.0",
      "model_name": "FloatSliderModel",
      "state": {
       "behavior": "drag-tap",
       "description": "Renuc",
       "layout": "IPY_MODEL_23b0a691915b4c66829c7bc3e3013ef9",
       "max": 5,
       "min": 1,
       "step": 0.5,
       "style": "IPY_MODEL_ec4759d4867d448fabdc74d3212210b5",
       "value": 1
      }
     }
    },
    "version_major": 2,
    "version_minor": 0
   }
  }
 },
 "nbformat": 4,
 "nbformat_minor": 4
}
