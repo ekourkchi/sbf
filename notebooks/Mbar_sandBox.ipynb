{
 "cells": [
  {
   "cell_type": "code",
   "execution_count": 83,
   "id": "be9e88d9",
   "metadata": {},
   "outputs": [],
   "source": [
    "import matplotlib.pyplot as plt\n",
    "import numpy as np\n",
    "import pandas as pd\n",
    "\n",
    "import sys\n",
    "\n",
    "from settings import *\n",
    "sys.path.insert(0, PYSBF_PATH)\n",
    "from pysbf import *"
   ]
  },
  {
   "cell_type": "markdown",
   "id": "70da2156",
   "metadata": {},
   "source": [
    "From configuration file, get mag zero point (em1), extinction, eperadu, arcsec per pixel (pscale), psf, and exposure time (dt)"
   ]
  },
  {
   "cell_type": "code",
   "execution_count": 84,
   "id": "f1dcf58d",
   "metadata": {},
   "outputs": [
    {
     "ename": "SyntaxError",
     "evalue": "invalid syntax (4004139638.py, line 12)",
     "output_type": "error",
     "traceback": [
      "\u001b[0;36m  Cell \u001b[0;32mIn[84], line 12\u001b[0;36m\u001b[0m\n\u001b[0;31m    M1_J calcualtor ...\u001b[0m\n\u001b[0m         ^\u001b[0m\n\u001b[0;31mSyntaxError\u001b[0m\u001b[0;31m:\u001b[0m invalid syntax\n"
     ]
    }
   ],
   "source": [
    "# em0 extinction-corrected mag of an object giving one electron per total exposure time. \n",
    "# Atmospheric extinction is 0 for HST/JWST, but we should still include it.\n",
    "\n",
    "# atm: airmass\n",
    "# secz\n",
    "# em1: mag zero point\n",
    "\n",
    "# m=-2.5logf+m_1-A*secz+C*color\n",
    "\n",
    "mag_zero_point = em1\n",
    "# M1_J    =               26.822  /  m1: m for 1 e/sec at top of atm, color=0\n",
    "M1_J calcualtor ...\n",
    "\n",
    " # ?  atm = 0 for HST, JWST (space telescopes)\n",
    "em0 =  -2.5*alog10(eperadu / dt) + em1 #- atm*secz\n",
    "\n",
    "#E/ADU_J =                 1.00  /  Electrons per ADU in averaged image\n",
    "#ETIME_J =               2011.7  /  Exposure time (sec)\n",
    "\n",
    "# aext =   absfilt(color, abext)\n",
    "\n",
    "# em0 = em0 - aext\n",
    "\n",
    "em0_corrected = em0 - 2.5log10(dt) - ext_band (MW extinction from NED at the desired waveband)\n",
    "\n",
    "em0_after_all_corrections = M1STAR_J = 35.081  /  m1star: m for 1e- net (no MW ext, C=gxy)\n"
   ]
  },
  {
   "cell_type": "code",
   "execution_count": null,
   "id": "aa4f02f1",
   "metadata": {},
   "outputs": [],
   "source": [
    " "
   ]
  },
  {
   "cell_type": "code",
   "execution_count": 85,
   "id": "b0937a0c",
   "metadata": {},
   "outputs": [
    {
     "ename": "NameError",
     "evalue": "name 'em0' is not defined",
     "output_type": "error",
     "traceback": [
      "\u001b[0;31m---------------------------------------------------------------------------\u001b[0m",
      "\u001b[0;31mNameError\u001b[0m                                 Traceback (most recent call last)",
      "Cell \u001b[0;32mIn[85], line 1\u001b[0m\n\u001b[0;32m----> 1\u001b[0m skymag \u001b[38;5;241m=\u001b[39m em0 \u001b[38;5;241m-\u001b[39m \u001b[38;5;241m2.5\u001b[39m\u001b[38;5;241m*\u001b[39malog10(sky\u001b[38;5;241m/\u001b[39mpscale\u001b[38;5;241m*\u001b[39m\u001b[38;5;241m*\u001b[39m\u001b[38;5;241m2\u001b[39m) \u001b[38;5;241m+\u001b[39m aext\n",
      "\u001b[0;31mNameError\u001b[0m: name 'em0' is not defined"
     ]
    }
   ],
   "source": [
    "skymag = em0 - 2.5*alog10(sky/pscale**2) + aext"
   ]
  },
  {
   "cell_type": "markdown",
   "id": "9c47b285",
   "metadata": {},
   "source": [
    "```\n",
    "bar.r = <r>  : average r in the anulus\n",
    "    \n",
    "<r> <g> : in *c# files\n",
    "k is the index \n",
    "\n",
    "\n",
    "PSF:  (order,K0,K1) = (4,  0, 15)   Scale = 1.846E+08   Sum/Scale = 1.000\n",
    "MASK: (X0,Y0) = ( 567, 562)   (R0,R1) = (  32,  64)   (A0,A1) = (  0,360)\n",
    "AVG:  <1> = 0.030    <g> = 56418.5    <r> =  49.7    E(k=0) =  1551.3\n",
    "RESIDUAL VARIANCE: m_res =   0.00\n",
    "P0=  2.206E+01 +/-  3.52E-01   P1=  1.553E+00   Kfit=(25, 60)   Cor cf= 0.958\n",
    "\n",
    "   k   Expect(k)   Data(k) Efit/E0 Data/E0   P0*E      P1      P0*E+P1   P0       P1       RMS    Corcof\n",
    "   0.0 1.500E+03 5.168E+05  1.0000 3.33E+02 2.21E+01 1.55E+00 2.36E+01 2.87E+01 7.61E-01 5.90E+03 22.059\n",
    "   1.0 1.498E+03 4.156E+05  0.9901 2.68E+02 2.18E+01 1.55E+00 2.34E+01 2.86E+01 7.73E-01 5.55E+03*******\n",
    "   2.0 1.495E+03 2.462E+05  0.9803 1.59E+02 2.16E+01 1.55E+00 2.32E+01 2.82E+01 8.17E-01 4.44E+03  0.809\n",
    "   3.0 1.490E+03 1.080E+05  0.9706 6.96E+01 2.14E+01 1.55E+00 2.30E+01 2.80E+01 8.51E-01 3.98E+03  0.822\n",
    "   \n",
    "   ```"
   ]
  },
  {
   "cell_type": "markdown",
   "id": "1a40fb45",
   "metadata": {},
   "source": [
    "power_c0.txt\n",
    "power_c1.txt\n",
    "power_c2.txt   \n",
    "<r> average radius\n",
    "<g> average galaxy\n",
    "R0, R1 : inner, outer anulus in pixel\n",
    "A0, A1: angles definine the region\n",
    "    \n",
    "P0 +\n",
    "P1 + \n",
    "Kfit: Range of fitting wavelengths\n",
    "Cor cf: correlation coefficient"
   ]
  },
  {
   "cell_type": "code",
   "execution_count": 86,
   "id": "b7fa0a36",
   "metadata": {},
   "outputs": [],
   "source": [
    "class Params:\n",
    "    \n",
    "    def print(self):\n",
    "        for attribute, value in self.__dict__.items():\n",
    "            if isinstance(value, (int, float, np.float64)):\n",
    "                print(f\"{attribute}: {value}\")"
   ]
  },
  {
   "cell_type": "code",
   "execution_count": 87,
   "id": "23c9724d",
   "metadata": {},
   "outputs": [],
   "source": [
    "import re \n",
    "\n",
    "\n",
    "class ParameterExtractor(Params):\n",
    "    def __init__(self, text):\n",
    "        self.text = text\n",
    "        self.extract_parameters()\n",
    "\n",
    "    def extract_parameters(self):\n",
    "        self.extract_psf_parameters()\n",
    "        self.extract_mask_parameters()\n",
    "        self.extract_avg_parameters()\n",
    "        self.extract_residual_variance()\n",
    "        self.extract_p0_p1_kfit()\n",
    "\n",
    "    def extract_psf_parameters(self):\n",
    "        pattern = r\"PSF:\\s+\\(order,K0,K1\\)\\s+=\\s+\\((\\d+),\\s*(\\d+),\\s*(\\d+)\\)\"\n",
    "        match = re.search(pattern, self.text)\n",
    "        if match:\n",
    "            self.PSF_order = int(match.group(1))\n",
    "            self.PSF_K0 = int(match.group(2))\n",
    "            self.PSF_K1 = int(match.group(3))\n",
    "        else:\n",
    "            self.PSF_order = None\n",
    "            self.PSF_K0 = None\n",
    "            self.PSF_K1 = None\n",
    "\n",
    "    def extract_mask_parameters(self):\n",
    "        pattern_mask = r\"MASK:\\s+\\(X0,Y0\\)\\s+=\\s+\\(\\s*(\\d+),\\s*(\\d+)\\)\\s+\\(R0,R1\\)\\s+=\\s+\\(\\s*(\\d+),\\s*(\\d+)\\)\\s+\\(A0,A1\\)\\s+=\\s+\\(\\s*(\\d+),\\s*(\\d+)\\)\"\n",
    "        match_mask = re.search(pattern_mask, self.text)\n",
    "        if match_mask:\n",
    "            self.mask_x0 = int(match_mask.group(1))\n",
    "            self.mask_y0 = int(match_mask.group(2))\n",
    "            self.R0 = int(match_mask.group(3))\n",
    "            self.R1 = int(match_mask.group(4))\n",
    "            self.A0 = int(match_mask.group(5))\n",
    "            self.A1 = int(match_mask.group(6))\n",
    "        else:\n",
    "            self.mask_x0 = None\n",
    "            self.mask_y0 = None\n",
    "            self.R0 = None\n",
    "            self.R1 = None\n",
    "            self.A0 = None\n",
    "            self.A1 = None\n",
    "\n",
    "    def extract_avg_parameters(self):\n",
    "        pattern_avg = r\"AVG:\\s+<1>\\s*=\\s*([\\d.E+-]+)\\s+<g>\\s*=\\s*([\\d.E+-]+)\\s+<r>\\s*=\\s*([\\d.E+-]+)\\s+E\\(k=0\\)\\s*=\\s*([\\d.E+-]+)\"\n",
    "        match_avg = re.search(pattern_avg, self.text)\n",
    "        if match_avg:\n",
    "            self.Ave_1 = float(match_avg.group(1))\n",
    "            self.Avg_g = float(match_avg.group(2))\n",
    "            self.Avg_r = float(match_avg.group(3))\n",
    "            self.E_k = float(match_avg.group(4))\n",
    "        else:\n",
    "            self.Ave_1 = None\n",
    "            self.Avg_g = None\n",
    "            self.Avg_r = None\n",
    "            self.E_k = None\n",
    "\n",
    "    def extract_residual_variance(self):\n",
    "        pattern_residual_variance = r\"RESIDUAL VARIANCE:\\s+m_res\\s*=\\s*([\\d.E+-]+)\"\n",
    "        match_residual_variance = re.search(pattern_residual_variance, self.text)\n",
    "        if match_residual_variance:\n",
    "            self.m_res = float(match_residual_variance.group(1))\n",
    "        else:\n",
    "            self.m_res = None\n",
    "\n",
    "    def extract_p0_p1_kfit(self):\n",
    "        pattern_p0_p1_kfit = r\"P0=\\s*([\\d.E+-]+)\\s*\\+/-\\s*([\\d.E+-]+)\\s*P1=\\s*([\\d.E+-]+)\\s*Kfit=\\((\\d+),\\s*(\\d+)\\)\\s*Cor cf=\\s*([\\d.E+-]+)\"\n",
    "        match_p0_p1_kfit = re.search(pattern_p0_p1_kfit, self.text)\n",
    "        if match_p0_p1_kfit:\n",
    "            self.P0 = float(match_p0_p1_kfit.group(1))\n",
    "            self.dP0 = float(match_p0_p1_kfit.group(2))\n",
    "            self.P1 = float(match_p0_p1_kfit.group(3))\n",
    "            self.Kfit = (int(match_p0_p1_kfit.group(4)), int(match_p0_p1_kfit.group(5)))\n",
    "            self.Corr_cf = float(match_p0_p1_kfit.group(6))\n",
    "        else:\n",
    "            self.P0 = None\n",
    "            self.dP0 = None\n",
    "            self.P1 = None\n",
    "            self.Kfit = None\n",
    "            self.Corr_cf = None\n"
   ]
  },
  {
   "cell_type": "code",
   "execution_count": 88,
   "id": "899b959d",
   "metadata": {},
   "outputs": [
    {
     "name": "stdout",
     "output_type": "stream",
     "text": [
      "power_c0.txt  power_c1.txt  power_c2.txt\r\n"
     ]
    }
   ],
   "source": [
    "!ls *c*.txt"
   ]
  },
  {
   "cell_type": "code",
   "execution_count": 89,
   "id": "24691a9c",
   "metadata": {},
   "outputs": [
    {
     "data": {
      "application/vnd.jupyter.widget-view+json": {
       "model_id": "14dbf799d7634d17a8151ef086829841",
       "version_major": 2,
       "version_minor": 0
      },
      "text/plain": [
       "HBox(children=(Textarea(value='PSF:  (order,K0,K1) = (4,  0, 15)   Scale = 1.846E+08   Sum/Scale = 1.000\\nMASK…"
      ]
     },
     "metadata": {},
     "output_type": "display_data"
    },
    {
     "data": {
      "application/vnd.jupyter.widget-view+json": {
       "model_id": "811fbf3116a34d82a351fc30fcc43551",
       "version_major": 2,
       "version_minor": 0
      },
      "text/plain": [
       "HBox(children=(Textarea(value='PSF:  (order,K0,K1) = (4,  0, 15)   Scale = 1.846E+08   Sum/Scale = 1.000\\nMASK…"
      ]
     },
     "metadata": {},
     "output_type": "display_data"
    },
    {
     "data": {
      "application/vnd.jupyter.widget-view+json": {
       "model_id": "6f01dac3c9ab441ca61f44b6a3ba4ecd",
       "version_major": 2,
       "version_minor": 0
      },
      "text/plain": [
       "HBox(children=(Textarea(value='PSF:  (order,K0,K1) = (4,  0, 15)   Scale = 1.846E+08   Sum/Scale = 1.000\\nMASK…"
      ]
     },
     "metadata": {},
     "output_type": "display_data"
    }
   ],
   "source": [
    "_ = Logtext(\"power_c0.txt\", \"C0\")\n",
    "_ = Logtext(\"power_c1.txt\", \"C1\")\n",
    "_ = Logtext(\"power_c2.txt\", \"C2\")"
   ]
  },
  {
   "cell_type": "code",
   "execution_count": 90,
   "id": "b0b3b7e8",
   "metadata": {},
   "outputs": [
    {
     "name": "stdout",
     "output_type": "stream",
     "text": [
      "PSF_order: 4\n",
      "PSF_K0: 0\n",
      "PSF_K1: 15\n",
      "mask_x0: 567\n",
      "mask_y0: 562\n",
      "R0: 32\n",
      "R1: 64\n",
      "A0: 0\n",
      "A1: 360\n",
      "Ave_1: 0.03\n",
      "Avg_g: 56418.5\n",
      "Avg_r: 49.7\n",
      "E_k: 1551.3\n",
      "m_res: 0.0\n",
      "P0: 22.06\n",
      "dP0: 0.352\n",
      "P1: 1.553\n",
      "Corr_cf: 0.958\n"
     ]
    }
   ],
   "source": [
    "def extract_power(powerFile):\n",
    "    \n",
    "    with open(powerFile) as f:\n",
    "        text = f.read()\n",
    "\n",
    "    # Create an instance of ParameterExtractor\n",
    "    return ParameterExtractor(text)\n",
    "    \n",
    "\n",
    "power_C0 = extract_power(\"power_c0.txt\")\n",
    "power_C0.print()"
   ]
  },
  {
   "cell_type": "code",
   "execution_count": null,
   "id": "56718703",
   "metadata": {},
   "outputs": [],
   "source": []
  },
  {
   "cell_type": "code",
   "execution_count": null,
   "id": "ec5df729",
   "metadata": {},
   "outputs": [],
   "source": []
  },
  {
   "cell_type": "code",
   "execution_count": 91,
   "id": "1b984cd0",
   "metadata": {},
   "outputs": [
    {
     "data": {
      "text/plain": [
       "'/media/Data/Home/PanStarrs/Jan/HI/augment/SBF/codes/notebooks/output/Outputs_u12517/u12517_eb317d7f178c/u12517_se_lknjj.lkn6'"
      ]
     },
     "execution_count": 91,
     "metadata": {},
     "output_type": "execute_result"
    }
   ],
   "source": [
    "lkn_File = '/media/Data/Home/PanStarrs/Jan/HI/augment/SBF/codes/notebooks/output/Outputs_u12517/u12517_eb317d7f178c'\n",
    "lkn_File += '/u12517_se_lknjj.lkn6'\n",
    "\n",
    "lkn_File "
   ]
  },
  {
   "cell_type": "code",
   "execution_count": 92,
   "id": "15722610",
   "metadata": {},
   "outputs": [
    {
     "data": {
      "application/vnd.jupyter.widget-view+json": {
       "model_id": "fb731ca54ea84324ab0f2cefcf1db482",
       "version_major": 2,
       "version_minor": 0
      },
      "text/plain": [
       "HBox(children=(Textarea(value=\"    31     lines of header information\\n    16     lines of marginal counts\\n  …"
      ]
     },
     "metadata": {},
     "output_type": "display_data"
    }
   ],
   "source": [
    "_ = Logtext(lkn_File, \"lkn6\")"
   ]
  },
  {
   "cell_type": "code",
   "execution_count": 93,
   "id": "fb4d6ce6",
   "metadata": {},
   "outputs": [],
   "source": [
    "with open(lkn_File, 'r') as f:\n",
    "    \n",
    "    lkn_lines = f.readlines()"
   ]
  },
  {
   "cell_type": "code",
   "execution_count": 94,
   "id": "167e695c",
   "metadata": {},
   "outputs": [
    {
     "data": {
      "text/plain": [
       "31"
      ]
     },
     "execution_count": 94,
     "metadata": {},
     "output_type": "execute_result"
    }
   ],
   "source": [
    "n_header = 0 \n",
    "for l in lkn_lines[:5]:\n",
    "    if \"lines of header information\" in l:\n",
    "        n_header = int(l.split(\"lines\")[0].strip())\n",
    "    \n",
    "n_header"
   ]
  },
  {
   "cell_type": "code",
   "execution_count": 95,
   "id": "39ada356",
   "metadata": {},
   "outputs": [
    {
     "name": "stdout",
     "output_type": "stream",
     "text": [
      "Cmax: 25.64407\n",
      "Cnorm: 0.23487\n",
      "Alpha: 1.2075\n",
      "Delta: 1.4\n",
      "Gamma: 0.25\n",
      "Gnorm: 2.67241\n",
      "SN: 10.55181\n",
      "sec_pixel: 0.128\n"
     ]
    }
   ],
   "source": [
    "param_list = [\"Cmax\", \"Cnorm\", \"Alpha\", \"Delta\", \"Gamma\", \"Gnorm\", \"SN\", \"sec/pixel\"]\n",
    "  \n",
    "    \n",
    "P = Params()\n",
    "\n",
    "\n",
    "if n_header > 0:\n",
    "    for param in param_list:\n",
    "        \n",
    "        for line in lkn_lines[:n_header]:\n",
    "            \n",
    "            if param in line and \"=\" in line:\n",
    "                s = np.float64([s for s in line.split(\"=\")[1].split(\" \") if s!=\"\"][0])\n",
    "                setattr(P, param.replace(\"/\", \"_\"), s)\n",
    "                    \n",
    "P.print() "
   ]
  },
  {
   "cell_type": "code",
   "execution_count": 96,
   "id": "d6f7a86e",
   "metadata": {},
   "outputs": [
    {
     "data": {
      "text/plain": [
       "0.128"
      ]
     },
     "execution_count": 96,
     "metadata": {},
     "output_type": "execute_result"
    }
   ],
   "source": [
    "P.sec_pixel"
   ]
  },
  {
   "cell_type": "markdown",
   "id": "b9b707ea",
   "metadata": {},
   "source": [
    "### From n1234j.lkn6,\n",
    "\n",
    "Get number of predicted fit lines npred from line 3.\n",
    "\n",
    "- Get pscale (plate scale) from lkn6 or from config file + \n",
    "- Load an array with `r = ran`, `m_faintcutoff = emf`, residual variance `m_all = emres` (see below)\n",
    "- Get the GCLF peak mag `Cmax` from header section +\n",
    "- Get the GCLF parameters `cnorm`, `alpha`, `delta` + \n",
    "- Get the galaxy parameters `gamma`, `gnorm` +\n",
    "- Get `S/N` used for selecting objects (sigdet) +\n",
    "\n",
    "### Set up parameters:\n",
    "- Set `emgalsec=34.5 for AB mags`, 30.5 for Vega (just use **AB for now**)\n",
    "- Set dm = 0.04 mag as an input parameter\n",
    "- Set `prfix = input` parameter, 0 by default, to increase Pr when `emdiff > 0`. "
   ]
  },
  {
   "cell_type": "raw",
   "id": "cd0b951f",
   "metadata": {},
   "source": [
    "    31     lines of header information\n",
    "    14     lines of marginal counts\n",
    "   100     lines of predicted fits\n",
    "                     1016     points originally present\n",
    "                      869     points within (r,m) fit limits\n",
    "Distance =       72.00000     (distance assumed, Mpc)\n",
    "Distance =       72.00000     (distance derived, Mpc)\n",
    "sec/pixel =       0.12800     (pixel scale)\n",
    "Likelihood =      6.87112     (-ln prob/pt of fit)\n",
    " Beta =           0.52370     (#gxy / total sources)\n",
    "Cnorm =        1.0853E-01     (GC normalization)\n",
    " Cmax =          25.86616     (GC peak magnitude)\n",
    "Delta =           1.40000     (GC distribution width)\n",
    "Alpha =        9.6449E-01     (GC slope log N vs log r)\n",
    "Total # GC =    413.9\n",
    "Gamma =           0.25000     (Gxy slope log N vs m)\n",
    "Gnorm =           4.85886     (Gxy count / 1/sec^2 @ 34.50)\n",
    "Tnorm =           0.39256     (Tyson Gxy count @ 30.13)\n",
    "Total # gxy =   455.1\n",
    "rlim(1) =        10.14000     (Innermost fit radius)\n",
    "rlim(2) =       554.58386     (Outermost fit radius)\n",
    "SN limit =        4.50000     (Completeness limit...)\n",
    "mlim(1) =        10.56596     (A: K + log(1/SN))\n",
    "mlim(2) =         0.95317     (B: ...)\n",
    "mlim(3) =        90.0         (C: mcut=2.5*(A-Blog(1+C/r))\n",
    "mlim(4) =        20.00000     (bright end cutoff)\n",
    "Annulus r =    7.8802E+01     (mean r of annulus)\n",
    "Annulus r =    1.7716E+02     (mean r of annulus)\n",
    "Annulus r =    2.8283E+02     (mean r of annulus)\n",
    "Annulus r =    3.9212E+02     (mean r of annulus)\n",
    "Annulus r =    5.0089E+02     (mean r of annulus)"
   ]
  },
  {
   "cell_type": "markdown",
   "id": "50e8459e",
   "metadata": {},
   "source": [
    "- Load an array with `r = ran`, `m_faintcutoff = emf`, residual variance `m_all = emres`"
   ]
  },
  {
   "cell_type": "raw",
   "id": "d3bcc107",
   "metadata": {},
   "source": [
    " Residual variance PER PIXEL in magnitudes, V = 1*f^2\n",
    "       bright  faint   Residual variance\n",
    "   r      m      m    m_gc   m_gxy  m_all  slope   bias\n",
    "   5.0  20.00  23.37  26.27  28.35  26.25   0.00   0.00\n",
    "  14.0  20.00  24.34  27.42  29.02  27.40   0.00   0.00\n",
    "  23.0  20.00  24.77  28.03  29.31  27.98   0.00   0.00\n"
   ]
  },
  {
   "cell_type": "markdown",
   "id": "449e89eb",
   "metadata": {},
   "source": [
    "r=ran   \n",
    "faint_m=m_faint   --> emf  (faint cutoff)\n",
    "m_all=emres   ---> emres (residual variance)"
   ]
  },
  {
   "cell_type": "code",
   "execution_count": null,
   "id": "a2abbc84",
   "metadata": {},
   "outputs": [],
   "source": []
  },
  {
   "cell_type": "markdown",
   "id": "ae081fbf",
   "metadata": {},
   "source": [
    "```Compute the average faint mag cutoff: because the annulus mean radius <r> = barr is not on the same grid as the lkn output, we have to interpolate.\n",
    "    ```"
   ]
  },
  {
   "cell_type": "markdown",
   "id": "711d3302",
   "metadata": {},
   "source": [
    "find: at <r>\n",
    "    - m_all --> emres --> emr \n",
    "    - m.1 --> emf   --> emcut\n",
    "    \n",
    "emdiff = cmax - emcut"
   ]
  },
  {
   "cell_type": "code",
   "execution_count": 97,
   "id": "2a009760",
   "metadata": {},
   "outputs": [],
   "source": [
    "# Residual variance PER PIXEL in magnitudes, V = 1*f^2"
   ]
  },
  {
   "cell_type": "code",
   "execution_count": 98,
   "id": "20a7b570",
   "metadata": {},
   "outputs": [
    {
     "name": "stderr",
     "output_type": "stream",
     "text": [
      "/tmp/ipykernel_1019089/190715336.py:5: FutureWarning: The 'delim_whitespace' keyword in pd.read_csv is deprecated and will be removed in a future version. Use ``sep='\\s+'`` instead\n",
      "  df = pd.read_csv(lkn_File, delim_whitespace=True, skiprows=i+2)\n"
     ]
    },
    {
     "data": {
      "text/html": [
       "<div>\n",
       "<style scoped>\n",
       "    .dataframe tbody tr th:only-of-type {\n",
       "        vertical-align: middle;\n",
       "    }\n",
       "\n",
       "    .dataframe tbody tr th {\n",
       "        vertical-align: top;\n",
       "    }\n",
       "\n",
       "    .dataframe thead th {\n",
       "        text-align: right;\n",
       "    }\n",
       "</style>\n",
       "<table border=\"1\" class=\"dataframe\">\n",
       "  <thead>\n",
       "    <tr style=\"text-align: right;\">\n",
       "      <th></th>\n",
       "      <th>r</th>\n",
       "      <th>bright_m</th>\n",
       "      <th>faint_m</th>\n",
       "      <th>m_gc</th>\n",
       "      <th>m_gxy</th>\n",
       "      <th>m_all</th>\n",
       "      <th>slope</th>\n",
       "      <th>bias</th>\n",
       "    </tr>\n",
       "  </thead>\n",
       "  <tbody>\n",
       "    <tr>\n",
       "      <th>0</th>\n",
       "      <td>14.0</td>\n",
       "      <td>20.0</td>\n",
       "      <td>23.37</td>\n",
       "      <td>26.64</td>\n",
       "      <td>28.68</td>\n",
       "      <td>26.63</td>\n",
       "      <td>0.0</td>\n",
       "      <td>0.0</td>\n",
       "    </tr>\n",
       "    <tr>\n",
       "      <th>1</th>\n",
       "      <td>22.0</td>\n",
       "      <td>20.0</td>\n",
       "      <td>23.87</td>\n",
       "      <td>27.25</td>\n",
       "      <td>29.02</td>\n",
       "      <td>27.23</td>\n",
       "      <td>0.0</td>\n",
       "      <td>0.0</td>\n",
       "    </tr>\n",
       "    <tr>\n",
       "      <th>2</th>\n",
       "      <td>30.0</td>\n",
       "      <td>20.0</td>\n",
       "      <td>24.19</td>\n",
       "      <td>27.69</td>\n",
       "      <td>29.24</td>\n",
       "      <td>27.66</td>\n",
       "      <td>0.0</td>\n",
       "      <td>0.0</td>\n",
       "    </tr>\n",
       "    <tr>\n",
       "      <th>3</th>\n",
       "      <td>38.0</td>\n",
       "      <td>20.0</td>\n",
       "      <td>24.43</td>\n",
       "      <td>28.03</td>\n",
       "      <td>29.40</td>\n",
       "      <td>27.99</td>\n",
       "      <td>0.0</td>\n",
       "      <td>0.0</td>\n",
       "    </tr>\n",
       "    <tr>\n",
       "      <th>4</th>\n",
       "      <td>46.0</td>\n",
       "      <td>20.0</td>\n",
       "      <td>24.61</td>\n",
       "      <td>28.31</td>\n",
       "      <td>29.53</td>\n",
       "      <td>28.25</td>\n",
       "      <td>0.0</td>\n",
       "      <td>0.0</td>\n",
       "    </tr>\n",
       "  </tbody>\n",
       "</table>\n",
       "</div>"
      ],
      "text/plain": [
       "      r  bright_m  faint_m   m_gc  m_gxy  m_all  slope  bias\n",
       "0  14.0      20.0    23.37  26.64  28.68  26.63    0.0   0.0\n",
       "1  22.0      20.0    23.87  27.25  29.02  27.23    0.0   0.0\n",
       "2  30.0      20.0    24.19  27.69  29.24  27.66    0.0   0.0\n",
       "3  38.0      20.0    24.43  28.03  29.40  27.99    0.0   0.0\n",
       "4  46.0      20.0    24.61  28.31  29.53  28.25    0.0   0.0"
      ]
     },
     "execution_count": 98,
     "metadata": {},
     "output_type": "execute_result"
    }
   ],
   "source": [
    "for i, line in enumerate(lkn_lines):\n",
    "    if \"Residual variance\" in line:\n",
    "        break\n",
    "\n",
    "df = pd.read_csv(lkn_File, delim_whitespace=True, skiprows=i+2)\n",
    "\n",
    "df = df.rename(columns = {\"m\":\"bright_m\", \"m.1\":\"faint_m\"})\n",
    "\n",
    "df.head()"
   ]
  },
  {
   "cell_type": "code",
   "execution_count": 99,
   "id": "825d3ed6",
   "metadata": {},
   "outputs": [
    {
     "data": {
      "text/plain": [
       "0.964694999999999"
      ]
     },
     "execution_count": 99,
     "metadata": {},
     "output_type": "execute_result"
    }
   ],
   "source": [
    "power_c_ = power_C0\n",
    "\n",
    "residual_m = emres = df[\"m_all\"].values               # get emr = residual variance\n",
    "faint_m = emf = df[\"faint_m\"].values                  # get emcut = faint cutoff\n",
    "R = ran = df[\"r\"].values\n",
    "\n",
    "emr = np.interp(power_c_.Avg_r, R, residual_m)\n",
    "emcut = np.interp(power_c_.Avg_r, R, faint_m)\n",
    "\n",
    "# positive means that GCLF is fainter than the cutoff, so smaller and negative values are good\n",
    "emdiff = P.Cmax - emcut\n",
    "emdiff"
   ]
  },
  {
   "cell_type": "code",
   "execution_count": 110,
   "id": "47e0bc46",
   "metadata": {},
   "outputs": [
    {
     "data": {
      "text/plain": [
       "24.679375"
      ]
     },
     "execution_count": 110,
     "metadata": {},
     "output_type": "execute_result"
    }
   ],
   "source": [
    "emcut"
   ]
  },
  {
   "cell_type": "code",
   "execution_count": 111,
   "id": "a37c02c8",
   "metadata": {},
   "outputs": [
    {
     "data": {
      "text/plain": [
       "0.23487"
      ]
     },
     "execution_count": 111,
     "metadata": {},
     "output_type": "execute_result"
    }
   ],
   "source": [
    "P.Cnorm : #up and down normalization, how much to multiply the GCFF by in order to normalized the "
   ]
  },
  {
   "cell_type": "code",
   "execution_count": 112,
   "id": "6c50b0dc",
   "metadata": {},
   "outputs": [],
   "source": [
    "\n",
    "# Cnorm : scale factor for the GCLF"
   ]
  },
  {
   "cell_type": "code",
   "execution_count": 101,
   "id": "89efe664",
   "metadata": {},
   "outputs": [
    {
     "name": "stdout",
     "output_type": "stream",
     "text": [
      "Cmax: 25.64407\n",
      "Cnorm: 0.23487\n",
      "Alpha: 1.2075\n",
      "Delta: 1.4\n",
      "Gamma: 0.25\n",
      "Gnorm: 2.67241\n",
      "SN: 10.55181\n",
      "sec_pixel: 0.128\n"
     ]
    }
   ],
   "source": [
    "P.print()"
   ]
  },
  {
   "cell_type": "code",
   "execution_count": 102,
   "id": "e63b5ed5",
   "metadata": {},
   "outputs": [],
   "source": [
    "# Set emgalsec=34.5 for AB mags, 30.5 for Vega (just use AB for now)\n",
    "\n",
    "emgalsec = 34.5\n",
    "\n",
    "# Set dm = 0.04 mag as an input parameter\n",
    "\n",
    "dm = 0.04 \n",
    "\n",
    "# Set prfix = input parameter, 0 by default, to increase Pr when emdiff is positive. \n",
    "\n",
    "prfix = 0 "
   ]
  },
  {
   "cell_type": "code",
   "execution_count": 103,
   "id": "d2429d05",
   "metadata": {},
   "outputs": [],
   "source": [
    "# Galaxy density at mcut (#/mag/arcmin^2)\n",
    "\n",
    "gdens = P.Gnorm * 10**(P.Gamma*(emcut - emgalsec)) * (60*60)\n",
    "\n",
    "gplus = P.Gnorm * 10**(P.Gamma*(emcut + dm - emgalsec)) * (60*60)"
   ]
  },
  {
   "cell_type": "code",
   "execution_count": 104,
   "id": "04b18360",
   "metadata": {},
   "outputs": [],
   "source": [
    "# Get GC density at mcut (#/mag/arcmin^2)\n",
    "\n",
    "pscale = P.sec_pixel\n",
    "delta = P.Delta\n",
    "alpha = P.Alpha\n",
    "barr = power_c_.Avg_r\n",
    "\n",
    "cdens = P.Cnorm / (pscale/60.)**2 * barr**(-alpha) * np.exp(-0.5*((emcut - P.Cmax)/delta)**2)\n",
    "\n",
    "cplus = P.Cnorm / (pscale/60.)**2 * barr**(-alpha) * np.exp(-0.5*((emcut + dm - P.Cmax)/delta)**2)"
   ]
  },
  {
   "cell_type": "code",
   "execution_count": 105,
   "id": "640bb23c",
   "metadata": {},
   "outputs": [],
   "source": [
    "barg = power_c_.Avg_g"
   ]
  },
  {
   "cell_type": "code",
   "execution_count": 106,
   "id": "d3a8c94b",
   "metadata": {},
   "outputs": [],
   "source": [
    "elfn = np.log10(gdens + cdens)\n",
    "\n",
    "elfs = ( np.log10(gplus + cplus) - np.log10(gdens + cdens) ) / dm"
   ]
  },
  {
   "cell_type": "code",
   "execution_count": 108,
   "id": "05b46567",
   "metadata": {},
   "outputs": [
    {
     "ename": "NameError",
     "evalue": "name 'psf' is not defined",
     "output_type": "error",
     "traceback": [
      "\u001b[0;31m---------------------------------------------------------------------------\u001b[0m",
      "\u001b[0;31mNameError\u001b[0m                                 Traceback (most recent call last)",
      "Cell \u001b[0;32mIn[108], line 1\u001b[0m\n\u001b[0;32m----> 1\u001b[0m pscale, psf\n",
      "\u001b[0;31mNameError\u001b[0m: name 'psf' is not defined"
     ]
    }
   ],
   "source": [
    "pscale, psf"
   ]
  },
  {
   "cell_type": "code",
   "execution_count": 109,
   "id": "a713810e",
   "metadata": {},
   "outputs": [],
   "source": [
    "barg =  power_c_.Avg_g   # average galaxy brightness"
   ]
  },
  {
   "cell_type": "code",
   "execution_count": null,
   "id": "92fc459d",
   "metadata": {},
   "outputs": [],
   "source": [
    "p1: noise  - P1 on the top of the SBF output"
   ]
  },
  {
   "cell_type": "code",
   "execution_count": null,
   "id": "d4ae20ae",
   "metadata": {},
   "outputs": [],
   "source": [
    "sigdet = 4.5   # signal to noise used in likenew"
   ]
  },
  {
   "cell_type": "code",
   "execution_count": null,
   "id": "b97a3fe8",
   "metadata": {},
   "outputs": [],
   "source": [
    "\n",
    "emexp = em0 – 2.5*np.alog10(2*sigdet*np.sqrt(2*np.max(1.0, p1) * barg * (psf/pscale)^2))"
   ]
  },
  {
   "cell_type": "code",
   "execution_count": null,
   "id": "c15d302f",
   "metadata": {},
   "outputs": [],
   "source": [
    "# Basic starting point for defining pr(k):\n",
    "\n",
    "pr = 10**(-0.8*(emr-em0)) / barg"
   ]
  },
  {
   "cell_type": "code",
   "execution_count": null,
   "id": "117569f8",
   "metadata": {},
   "outputs": [],
   "source": [
    "# If prfix>0, include an additional contribution to Pr:\n",
    "\n",
    "# this is the implementation of yessoft\n",
    "# if prfix>0:\n",
    "#     pr = pr * ( 1 + (10.**(0.4*emdiff) * prfix )"
   ]
  },
  {
   "cell_type": "code",
   "execution_count": null,
   "id": "f7c58998",
   "metadata": {},
   "outputs": [],
   "source": [
    "alp = 1 + 2.5*elfs\n",
    "\n",
    "pr = pr * (1. + 5/3. * (3.-alp)**2 / (49.-(3.-alp)**2)\n",
    "\n",
    "dpr = pr * amax1( 0.25, 2*(emcut-emexp) )\n",
    "\n",
    " "
   ]
  },
  {
   "cell_type": "code",
   "execution_count": null,
   "id": "a61b2b70",
   "metadata": {},
   "outputs": [],
   "source": [
    "\"\"\"\n",
    "\"\"\""
   ]
  },
  {
   "cell_type": "code",
   "execution_count": null,
   "id": "05b61cee",
   "metadata": {},
   "outputs": [],
   "source": []
  },
  {
   "cell_type": "code",
   "execution_count": 54,
   "id": "735fbfba",
   "metadata": {},
   "outputs": [],
   "source": [
    "power_C0 = extract_power(\"power_c0.txt\")\n",
    "power_C1 = extract_power(\"power_c1.txt\")\n",
    "power_C2 = extract_power(\"power_c2.txt\")"
   ]
  },
  {
   "cell_type": "code",
   "execution_count": 56,
   "id": "c29248c6",
   "metadata": {},
   "outputs": [
    {
     "data": {
      "text/plain": [
       "<matplotlib.legend.Legend at 0x70552b5dea20>"
      ]
     },
     "execution_count": 56,
     "metadata": {},
     "output_type": "execute_result"
    },
    {
     "data": {
      "image/png": "[encoded data removed]",
      "text/plain": [
       "<Figure size 900x250 with 1 Axes>"
      ]
     },
     "metadata": {},
     "output_type": "display_data"
    }
   ],
   "source": [
    "fig, ax = plt.subplots(figsize=(9, 2.5))\n",
    "\n",
    "ax.plot(R, residual_m, label = 'Residual m')\n",
    "ax.plot(R, faint_m, label = 'Faint m')\n",
    "\n",
    "ax.axvline(x=power_C0.Avg_r, color='red', linestyle='--', linewidth=1)\n",
    "ax.axvline(x=power_C1.Avg_r, color='orange', linestyle='--', linewidth=1)\n",
    "ax.axvline(x=power_C2.Avg_r, color='maroon', linestyle='--', linewidth=1)\n",
    "\n",
    "ax.set_xlabel(\"r\")\n",
    "ax.set_ylabel(\"Mag\")\n",
    "ax.legend()"
   ]
  },
  {
   "cell_type": "code",
   "execution_count": 57,
   "id": "51b8658b",
   "metadata": {},
   "outputs": [],
   "source": [
    "# Interpolating to find the corresponding y value\n",
    "y = np.interp(power_C0.Avg_r, R, residual_m)"
   ]
  },
  {
   "cell_type": "code",
   "execution_count": 58,
   "id": "2d260e76",
   "metadata": {},
   "outputs": [
    {
     "data": {
      "text/plain": [
       "28.35175"
      ]
     },
     "execution_count": 58,
     "metadata": {},
     "output_type": "execute_result"
    }
   ],
   "source": [
    "y"
   ]
  },
  {
   "cell_type": "code",
   "execution_count": null,
   "id": "76a60774",
   "metadata": {},
   "outputs": [],
   "source": []
  },
  {
   "cell_type": "code",
   "execution_count": null,
   "id": "11f5ed15",
   "metadata": {},
   "outputs": [],
   "source": []
  },
  {
   "cell_type": "code",
   "execution_count": null,
   "id": "20151431",
   "metadata": {},
   "outputs": [],
   "source": []
  },
  {
   "cell_type": "code",
   "execution_count": null,
   "id": "511fa66a",
   "metadata": {},
   "outputs": [],
   "source": []
  },
  {
   "cell_type": "code",
   "execution_count": null,
   "id": "1c2e895b",
   "metadata": {},
   "outputs": [],
   "source": []
  },
  {
   "cell_type": "code",
   "execution_count": null,
   "id": "fe739b87",
   "metadata": {},
   "outputs": [],
   "source": []
  },
  {
   "cell_type": "markdown",
   "id": "c8681322",
   "metadata": {},
   "source": [
    "### An example of bestfluc\n",
    "\n",
    "@ `codes/notebooks/data/wfc3/u12517/u12517doj.MBAR`"
   ]
  },
  {
   "cell_type": "markdown",
   "id": "e5ce560a",
   "metadata": {},
   "source": [
    "```\n",
    "u12517doj:\n",
    " A_B = 0.59   e/ADU =  1.00   Exp = 2012   m_1  = 26.822   sky = 21.84   GCLF peak = 25.87\n",
    "Aext =0.144   A_atm = 0.000  secz = 0.00   m_1* = 34.937   grot% = 0.00   Prfix% =  0.0  yessoft\n",
    "Area  <1>   <r\">  <mu> DPcut phcut magdiff  m0  +/-    P1   m_r  +/-   m_g   m_f  +/-  mbar  +/-\n",
    "J.c0 0.033   6.4 18.66 25.35 25.48  0.52 25.11 0.01  2.16 26.55 0.14  0.00 25.15 0.01 31.64 0.02\n",
    "J.c1 0.131  12.7 19.92 25.75 26.12  0.12 25.72 0.00  2.11 27.18 0.14  0.00 25.76 0.01 31.59 0.02\n",
    "J.c2 0.501  25.4 21.31 26.03 26.68 -0.16 26.35 0.00  2.74 27.62 0.14  0.00 26.41 0.02 31.51 0.03\n",
    "J.ne 0.453  49.4 22.83 26.20 26.97 -0.33 27.00 0.00  6.54 27.88 0.14  0.00 27.13 0.03 31.42 0.06\n",
    "J.se 0.447  51.0 22.92 26.21 26.94 -0.34 27.06 0.01  7.38 27.88 0.14  0.00 27.19 0.04 31.46 0.07\n",
    "J.sw 0.499  50.7 22.87 26.20 26.99 -0.34 27.05 0.01  6.43 27.88 0.14  0.00 27.18 0.04 31.50 0.07\n",
    "J.nw 0.445  49.6 22.91 26.20 26.95 -0.33 27.05 0.00  7.24 27.88 0.14  0.00 27.18 0.04 31.46 0.07\n",
    "\n",
    "      frac    P0    <P0>   +/-   P1     Pr   G/sky  P1/P0  Pr/P0 P-/P0  Pfluc  +/-   Pf/P1\n",
    "J.c0  0.90  22.43  22.54  0.28  2.16   1.57 16.401  0.096  0.070   1.1  20.86  0.49   9.65\n",
    "J.c1  0.89  23.39  23.35  0.19  2.11   1.58  5.103  0.090  0.068   1.0  21.81  0.44  10.33\n",
    "J.c2  0.85  25.97  25.80  0.19  2.74   2.52  1.425  0.105  0.097   1.1  23.45  0.66   8.56\n",
    "\n",
    "c0 Accepted: Pfluc =  20.86 +/-   0.49\n",
    "c1 Accepted: Pfluc =  21.81 +/-   0.44\n",
    "c2 Accepted: Pfluc =  23.45 +/-   0.66\n",
    "\n",
    "Best guess: Pf =  21.79 +/-  1.13, Chi/N = 4.97.    mbar = 31.59 +/- 0.05\n",
    "\n",
    "Chi^2/N unacceptable, delete c2 and try again\n",
    "\n",
    "c0 Accepted: Pfluc =  20.86 +/-   0.49\n",
    "c1 Accepted: Pfluc =  21.81 +/-   0.44\n",
    "\n",
    "Best guess: Pf =  21.39 +/-  1.12, Chi/N = 2.10.    mbar = 31.61 +/- 0.05\n",
    "\n",
    "```"
   ]
  },
  {
   "cell_type": "code",
   "execution_count": null,
   "id": "fa1f3bb3",
   "metadata": {},
   "outputs": [],
   "source": []
  },
  {
   "cell_type": "code",
   "execution_count": null,
   "id": "5aea6f99",
   "metadata": {},
   "outputs": [],
   "source": []
  },
  {
   "cell_type": "code",
   "execution_count": null,
   "id": "83120804",
   "metadata": {},
   "outputs": [],
   "source": []
  },
  {
   "cell_type": "code",
   "execution_count": null,
   "id": "7141ede7",
   "metadata": {},
   "outputs": [],
   "source": []
  },
  {
   "cell_type": "code",
   "execution_count": null,
   "id": "852154fc",
   "metadata": {},
   "outputs": [],
   "source": []
  },
  {
   "cell_type": "code",
   "execution_count": null,
   "id": "dc0816f4",
   "metadata": {},
   "outputs": [],
   "source": []
  },
  {
   "cell_type": "code",
   "execution_count": null,
   "id": "c182d6a6",
   "metadata": {},
   "outputs": [],
   "source": []
  }
 ],
 "metadata": {
  "kernelspec": {
   "display_name": "Python 3 (ipykernel)",
   "language": "python",
   "name": "python3"
  },
  "language_info": {
   "codemirror_mode": {
    "name": "ipython",
    "version": 3
   },
   "file_extension": ".py",
   "mimetype": "text/x-python",
   "name": "python",
   "nbconvert_exporter": "python",
   "pygments_lexer": "ipython3",
   "version": "3.12.4"
  }
 },
 "nbformat": 4,
 "nbformat_minor": 5
}
