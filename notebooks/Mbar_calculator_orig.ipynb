{
 "cells": [
  {
   "cell_type": "markdown",
   "id": "6beea9d2",
   "metadata": {},
   "source": [
    "Calculate Mbar for distance measurements.\n",
    "17 Dec 2022, J. Jensen\n",
    "Lightly tested using only a single galaxy and wavelength"
   ]
  },
  {
   "cell_type": "code",
   "execution_count": 1,
   "id": "5283bbba",
   "metadata": {},
   "outputs": [],
   "source": [
    "import sys, os\n",
    " \n",
    "# path of the pysbf folder\n",
    "# sys.path.insert(0, os.getcwd()+\"/../../\")\n",
    " \n",
    "pysbf_path = \"/home/sbf/\"\n",
    "\n",
    "# galaxy_root is where the WFC3/IR data are located; PS_root is where the PanSTARRS g,z data are located.\n",
    "galaxy_root = '/Users/Joe/data/wfc3-16262/'\n",
    "PS_root = '/Users/Joe/data/wfc3-16262/PS/'\n",
    "\n",
    "sys.path.insert(0, pysbf_path)\n",
    "from pysbf import *\n",
    " \n",
    "configFolder = pysbf_path + \"pysbf/config/sextractor/\""
   ]
  },
  {
   "cell_type": "code",
   "execution_count": 3,
   "id": "6bb8f52d",
   "metadata": {},
   "outputs": [],
   "source": [
    "# Galaxy set up\n",
    "name = \"u12517\"\n",
    "mbarcolor = \"F110W\"  # F110W or F160W\n",
    "ext_110 = 0.114\n",
    "ext_160 = 0.0"
   ]
  },
  {
   "cell_type": "code",
   "execution_count": 4,
   "id": "51948a23",
   "metadata": {},
   "outputs": [],
   "source": [
    "# Region inclusion criteria\n",
    "minsnr = 5   # minimum Pf/P1 SBF S/N\n",
    "maxGCpeakdiff = 0.5  # mag Peak GCLF - cutoff mag < 0.5\n",
    "minfrac = 0.5    # good pixels > 50%\n",
    "mingalsky = 0.5  # gal/sky > 0.5\n",
    "maxPrP0 = 0.1  # Pr/P0 < 0.1\n",
    "maxmbarsig = 0.2  # maximum mag error on mbar\n",
    "mingz = 1.2  # minimum g-z for the calibration\n",
    "minjh = 0.22  # minimum J-H (AB) for calibration"
   ]
  },
  {
   "cell_type": "code",
   "execution_count": null,
   "id": "c335d682",
   "metadata": {},
   "outputs": [],
   "source": []
  },
  {
   "cell_type": "code",
   "execution_count": null,
   "id": "602508b6",
   "metadata": {},
   "outputs": [],
   "source": [
    "# data file -> look up table\n",
    "# coming from the paper"
   ]
  },
  {
   "cell_type": "code",
   "execution_count": 5,
   "id": "f9a1463f",
   "metadata": {},
   "outputs": [],
   "source": [
    "# Calibration data (refs: Jensen+2015, Cantiello+2019, Jensen+2021)\n",
    "# This should probably be in a config file.\n",
    "# Common values used for all galaxies\n",
    "\n",
    "mbarcolor = \"F110W\"  # F110W or F160W\n",
    "color = \"PS\"  # PS, SDSS, DECam, ACS, 2MASS, WFC3IR\n",
    "calibration = \"linear\"  # linear, quadratic, group, individual; linear default\n",
    "calibrationwavelength = \"gz\"  # gz or jh\n",
    "\n",
    "ext_sig = 0.1  # this is somewhat arbitrary, but we have been using it successfully in past years.\n",
    "Prsig = 0.25  # in the past we used Pr uncertainty as 0.25*Pr\n",
    "# /P0 + diff (SE-dophot), but we don't compute the latter. \n",
    "# dpr(k) = pr(k) * amax1(Prsig, 2*(emcut(k)-emexp(k)))\n",
    "\n",
    "# Latest LMC distance modulus 18.477 (ref: Pietrzyński et al. 2019)\n",
    "LMC_correction = -0.023\n",
    "\n",
    "if mbarcolor == \"F160W\" and calibrationwavelength == \"gz\" and calibration == \"linear\":\n",
    "    Mbar_slope = 2.13\n",
    "    Mbar_zp = -3.640\n",
    "    Mbar_rms = 0.114\n",
    "    Mbar_offset = -1.4\n",
    "    ext = ext_160\n",
    "\n",
    "elif mbarcolor == \"F160W\" and calibrationwavelength == \"jh\" and calibration == \"linear\":\n",
    "    Mbar_slope = 7.1\n",
    "    Mbar_zp = -3.668\n",
    "    Mbar_rms = 0.121\n",
    "    Mbar_offset = -0.27\n",
    "    ext = ext_160\n",
    "  \n",
    "elif mbarcolor == \"F110W\" and calibrationwavelength == \"jh\" and calibration == \"linear\":\n",
    "    Mbar_slope = 6.7\n",
    "    Mbar_zp = -2.914\n",
    "    Mbar_rms = 0.092\n",
    "    Mbar_offset = -0.27\n",
    "    ext = ext_110\n",
    "\n",
    "# default to PanSTARRS g-z\n",
    "elif mbarcolor == \"F110W\" and calibrationwavelength == \"gz\" and calibration == \"linear\":\n",
    "    Mbar_slope = 2.16\n",
    "    Mbar_zp = -2.887\n",
    "    Mbar_rms = 0.06\n",
    "    Mbar_offset=-1.4\n",
    "    ext = ext_110\n",
    "    \n",
    "else:\n",
    "    exit(\"Calibration not found.\")\n",
    "    \n",
    "# Conversion factors for colors (ref: Jensen+2021)\n",
    "if color==\"SDSS\":\n",
    "    acsgz_slope = 0.01\n",
    "    acsgz_zp = -0.01\n",
    "    acsgz_rmsc0 = 0.019\n",
    "    acsgz_rmsc1 = 0.04\n",
    "    acsgz_rmsc2 = 0.098\n",
    "    acsgz_rmsc5 = 0.1 # undefined for c5\n",
    "elif color==\"DECam\":  # not yet measured\n",
    "    acsgz_slope = 0.\n",
    "    acsgz_zp = 0.\n",
    "    acsgz_rmsc0 = 0.0\n",
    "    acsgz_rmsc1 = 0.0\n",
    "    acsgz_rmsc2 = 0.0\n",
    "    acsgz_rmsc5 = 0.0 \n",
    "elif color==\"ACS\":  # by definition\n",
    "    acsgz_slope = 0.\n",
    "    acsgz_zp = 0.\n",
    "    acsgz_rmsc0 = 0.01  # nominal color uncertainty assumption\n",
    "    acsgz_rmsc1 = 0.015\n",
    "    acsgz_rmsc2 = 0.015\n",
    "    acsgz_rmsc5 = 0.02\n",
    "else:  # These are the default PanSTARRS values\n",
    "    acsgz_slope = 0.092\n",
    "    acsgz_zp = -0.009\n",
    "    acsgz_rmsc0 = 0.016\n",
    "    acsgz_rmsc1 = 0.016\n",
    "    acsgz_rmsc2 = 0.018\n",
    "    acsgz_rmsc5 = 0.02 # undefined for c5\n",
    "\n",
    "# WFC3/IR J-H = 2MASS J-H * slope + zp\n",
    "if color == \"WFC3IR\":  # by definition\n",
    "    wfc3jh_slope = 0\n",
    "    wfc3jh_zp = 0\n",
    "    wfc3jh_rmsc0 = 0.01  # nominal color error assumption\n",
    "    wfc3jh_rmsc1 = 0.02\n",
    "    wfc3jh_rmsc2 = 0.05\n",
    "    wfc3jh_rmsc5 = 0.1\n",
    "else:   # default to 2MASS for J-H\n",
    "    wfc3jh_slope = 0.158\n",
    "    wfc3jh_zp = 0.065\n",
    "    wfc3jh_rmsc0 = 0.0156\n",
    "    wfc3jh_rmsc1 = 0.0244\n",
    "    wfc3jh_rmsc2 = 0.0579\n",
    "    wfc3jh_rmsc5 = 0.114 \n",
    "\n",
    "# Future upgrades: \n",
    "# include more color transformation for SkyMapper and DECam\n",
    "# add the quadratic calibration for the galaxies with g-z<1.2. \n",
    "# Right now they are just excluded.\n",
    "# I would have to move this calibration block below the part where galaxy color is read."
   ]
  },
  {
   "cell_type": "code",
   "execution_count": 6,
   "id": "a12dee91",
   "metadata": {},
   "outputs": [
    {
     "ename": "NameError",
     "evalue": "name 'math' is not defined",
     "output_type": "error",
     "traceback": [
      "\u001b[0;31m---------------------------------------------------------------------------\u001b[0m",
      "\u001b[0;31mNameError\u001b[0m                                 Traceback (most recent call last)",
      "\u001b[0;32m<ipython-input-6-a2c20290a32d>\u001b[0m in \u001b[0;36m<module>\u001b[0;34m\u001b[0m\n\u001b[1;32m     13\u001b[0m     \u001b[0mext_g\u001b[0m \u001b[0;34m=\u001b[0m \u001b[0;36m0.592\u001b[0m\u001b[0;34m\u001b[0m\u001b[0;34m\u001b[0m\u001b[0m\n\u001b[1;32m     14\u001b[0m     \u001b[0mext_z\u001b[0m \u001b[0;34m=\u001b[0m \u001b[0;36m0.247\u001b[0m\u001b[0;34m\u001b[0m\u001b[0;34m\u001b[0m\u001b[0m\n\u001b[0;32m---> 15\u001b[0;31m     \u001b[0mgzc0sig\u001b[0m \u001b[0;34m=\u001b[0m \u001b[0mmath\u001b[0m\u001b[0;34m.\u001b[0m\u001b[0msqrt\u001b[0m\u001b[0;34m(\u001b[0m\u001b[0;34m(\u001b[0m\u001b[0mext_sig\u001b[0m\u001b[0;34m*\u001b[0m\u001b[0;34m(\u001b[0m\u001b[0mext_g\u001b[0m\u001b[0;34m-\u001b[0m\u001b[0mext_z\u001b[0m\u001b[0;34m)\u001b[0m\u001b[0;34m)\u001b[0m\u001b[0;34m**\u001b[0m\u001b[0;36m2\u001b[0m \u001b[0;34m+\u001b[0m \u001b[0macsgz_rmsc0\u001b[0m\u001b[0;34m**\u001b[0m\u001b[0;36m2\u001b[0m\u001b[0;34m)\u001b[0m\u001b[0;34m\u001b[0m\u001b[0;34m\u001b[0m\u001b[0m\n\u001b[0m\u001b[1;32m     16\u001b[0m     \u001b[0mgzc1sig\u001b[0m \u001b[0;34m=\u001b[0m \u001b[0mmath\u001b[0m\u001b[0;34m.\u001b[0m\u001b[0msqrt\u001b[0m\u001b[0;34m(\u001b[0m\u001b[0;34m(\u001b[0m\u001b[0mext_sig\u001b[0m\u001b[0;34m*\u001b[0m\u001b[0;34m(\u001b[0m\u001b[0mext_g\u001b[0m\u001b[0;34m-\u001b[0m\u001b[0mext_z\u001b[0m\u001b[0;34m)\u001b[0m\u001b[0;34m)\u001b[0m\u001b[0;34m**\u001b[0m\u001b[0;36m2\u001b[0m \u001b[0;34m+\u001b[0m \u001b[0macsgz_rmsc1\u001b[0m\u001b[0;34m**\u001b[0m\u001b[0;36m2\u001b[0m\u001b[0;34m)\u001b[0m\u001b[0;34m\u001b[0m\u001b[0;34m\u001b[0m\u001b[0m\n\u001b[1;32m     17\u001b[0m     \u001b[0mgzc2sig\u001b[0m \u001b[0;34m=\u001b[0m \u001b[0mmath\u001b[0m\u001b[0;34m.\u001b[0m\u001b[0msqrt\u001b[0m\u001b[0;34m(\u001b[0m\u001b[0;34m(\u001b[0m\u001b[0mext_sig\u001b[0m\u001b[0;34m*\u001b[0m\u001b[0;34m(\u001b[0m\u001b[0mext_g\u001b[0m\u001b[0;34m-\u001b[0m\u001b[0mext_z\u001b[0m\u001b[0;34m)\u001b[0m\u001b[0;34m)\u001b[0m\u001b[0;34m**\u001b[0m\u001b[0;36m2\u001b[0m \u001b[0;34m+\u001b[0m \u001b[0macsgz_rmsc2\u001b[0m\u001b[0;34m**\u001b[0m\u001b[0;36m2\u001b[0m\u001b[0;34m)\u001b[0m\u001b[0;34m\u001b[0m\u001b[0;34m\u001b[0m\u001b[0m\n",
      "\u001b[0;31mNameError\u001b[0m: name 'math' is not defined"
     ]
    }
   ],
   "source": [
    "# Read galaxy PanSTARRS g-z color data from json file\n",
    "# if color == \"PS\":\n",
    "#      read gz values from json file\n",
    "# elif color == \"2MASS\":\n",
    "#      read jh values from somewhere else...etc.\n",
    "\n",
    "if color == \"PS\":\n",
    "# This is just an example/test case UGC12517 (of course)\n",
    "    gzc0 = 1.334   # outputs of the color notebook\n",
    "    gzc1 = 1.333\n",
    "    gzc2 = 1.338\n",
    "    gzc5 = 1.34\n",
    "    ext_g = 0.592\n",
    "    ext_z = 0.247\n",
    "    gzc0sig = math.sqrt((ext_sig*(ext_g-ext_z))**2 + acsgz_rmsc0**2)  # uncertainties\n",
    "    gzc1sig = math.sqrt((ext_sig*(ext_g-ext_z))**2 + acsgz_rmsc1**2)\n",
    "    gzc2sig = math.sqrt((ext_sig*(ext_g-ext_z))**2 + acsgz_rmsc2**2)\n",
    "    gzc5sig = math.sqrt((ext_sig*(ext_g-ext_z))**2 + acsgz_rmsc5**2)\n",
    "\n",
    "if color==\"2MASS\":\n",
    "    # Read J-H color data from somewhere\n",
    "    jhc0 = 0.72\n",
    "    jhc1 = 0.72\n",
    "    jhc2 = 0.72\n",
    "    jhc5 = 0.72\n",
    "    ext_j = 0.0\n",
    "    ext_h = 0.0\n",
    "    jhc0sig = math.sqrt((ext_sig*(ext_h-ext_h))**2 + wfc3jh_rmsc0**2)\n",
    "    jhc1sig = math.sqrt((ext_sig*(ext_h-ext_h))**2 + wfc3jh_rmsc1**2)\n",
    "    jhc2sig = math.sqrt((ext_sig*(ext_h-ext_h))**2 + wfc3jh_rmsc2**2)\n",
    "    jhc5sig = math.sqrt((ext_sig*(ext_h-ext_h))**2 + wfc3jh_rmsc5**2)"
   ]
  },
  {
   "cell_type": "code",
   "execution_count": 7,
   "id": "0ed8b6b9",
   "metadata": {},
   "outputs": [
    {
     "ename": "NameError",
     "evalue": "name 'math' is not defined",
     "output_type": "error",
     "traceback": [
      "\u001b[0;31m---------------------------------------------------------------------------\u001b[0m",
      "\u001b[0;31mNameError\u001b[0m                                 Traceback (most recent call last)",
      "\u001b[0;32m<ipython-input-7-f9cc95d7204c>\u001b[0m in \u001b[0;36m<module>\u001b[0;34m\u001b[0m\n\u001b[1;32m     31\u001b[0m     \u001b[0mMbarc5\u001b[0m \u001b[0;34m=\u001b[0m \u001b[0mMbar_zp\u001b[0m \u001b[0;34m+\u001b[0m \u001b[0;34m(\u001b[0m\u001b[0;34m(\u001b[0m\u001b[0macs_gzc5\u001b[0m\u001b[0;34m+\u001b[0m\u001b[0mMbar_offset\u001b[0m\u001b[0;34m)\u001b[0m \u001b[0;34m*\u001b[0m \u001b[0mMbar_slope\u001b[0m\u001b[0;34m)\u001b[0m \u001b[0;34m-\u001b[0m \u001b[0mLMC_correction\u001b[0m\u001b[0;34m\u001b[0m\u001b[0;34m\u001b[0m\u001b[0m\n\u001b[1;32m     32\u001b[0m \u001b[0;34m\u001b[0m\u001b[0m\n\u001b[0;32m---> 33\u001b[0;31m     \u001b[0mMbarsigc0\u001b[0m \u001b[0;34m=\u001b[0m \u001b[0mmath\u001b[0m\u001b[0;34m.\u001b[0m\u001b[0msqrt\u001b[0m\u001b[0;34m(\u001b[0m\u001b[0mMbar_rms\u001b[0m\u001b[0;34m**\u001b[0m\u001b[0;36m2\u001b[0m \u001b[0;34m+\u001b[0m \u001b[0;34m(\u001b[0m\u001b[0mMbar_slope\u001b[0m\u001b[0;34m*\u001b[0m\u001b[0mgzc0sig\u001b[0m\u001b[0;34m)\u001b[0m\u001b[0;34m**\u001b[0m\u001b[0;36m2\u001b[0m\u001b[0;34m)\u001b[0m\u001b[0;34m\u001b[0m\u001b[0;34m\u001b[0m\u001b[0m\n\u001b[0m\u001b[1;32m     34\u001b[0m     \u001b[0mMbarsigc1\u001b[0m \u001b[0;34m=\u001b[0m \u001b[0mmath\u001b[0m\u001b[0;34m.\u001b[0m\u001b[0msqrt\u001b[0m\u001b[0;34m(\u001b[0m\u001b[0mMbar_rms\u001b[0m\u001b[0;34m**\u001b[0m\u001b[0;36m2\u001b[0m \u001b[0;34m+\u001b[0m \u001b[0;34m(\u001b[0m\u001b[0mMbar_slope\u001b[0m\u001b[0;34m*\u001b[0m\u001b[0mgzc1sig\u001b[0m\u001b[0;34m)\u001b[0m\u001b[0;34m**\u001b[0m\u001b[0;36m2\u001b[0m\u001b[0;34m)\u001b[0m\u001b[0;34m\u001b[0m\u001b[0;34m\u001b[0m\u001b[0m\n\u001b[1;32m     35\u001b[0m     \u001b[0mMbarsigc2\u001b[0m \u001b[0;34m=\u001b[0m \u001b[0mmath\u001b[0m\u001b[0;34m.\u001b[0m\u001b[0msqrt\u001b[0m\u001b[0;34m(\u001b[0m\u001b[0mMbar_rms\u001b[0m\u001b[0;34m**\u001b[0m\u001b[0;36m2\u001b[0m \u001b[0;34m+\u001b[0m \u001b[0;34m(\u001b[0m\u001b[0mMbar_slope\u001b[0m\u001b[0;34m*\u001b[0m\u001b[0mgzc2sig\u001b[0m\u001b[0;34m)\u001b[0m\u001b[0;34m**\u001b[0m\u001b[0;36m2\u001b[0m\u001b[0;34m)\u001b[0m\u001b[0;34m\u001b[0m\u001b[0;34m\u001b[0m\u001b[0m\n",
      "\u001b[0;31mNameError\u001b[0m: name 'math' is not defined"
     ]
    }
   ],
   "source": [
    "# Compute Mbar\n",
    "# This works for g-z but not tested for J-H yet.\n",
    "\n",
    "# claculating Mbar for the specific color, no SBF analysis data yet\n",
    "\n",
    "if color==\"2MASS\": # Use J-H if necessary; we don't have other options yet.\n",
    "    # note that 2MASS photometry is in Vega mags, the -0.4919 converts to AB\n",
    "    wfc3jhc0 = (jhc0 - 0.4919) * (1+wfc3jh_slope) + wfc3jh_zp\n",
    "    wfc3jhc1 = (jhc1 - 0.4919) * (1+wfc3jh_slope) + wfc3jh_zp\n",
    "    wfc3jhc2 = (jhc2 - 0.4919) * (1+wfc3jh_slope) + wfc3jh_zp\n",
    "    wfc3jhc5 = (jhc5 - 0.4919) * (1+wfc3jh_slope) + wfc3jh_zp\n",
    "    \n",
    "    Mbarc0 = Mbar_zp + ((wfc3jhc0+Mbar_offset) * Mbar_slope) - LMC_correction\n",
    "    Mbarc1 = Mbar_zp + ((wfc3jhc1+Mbar_offset) * Mbar_slope) - LMC_correction\n",
    "    Mbarc2 = Mbar_zp + ((wfc3jhc2+Mbar_offset) * Mbar_slope) - LMC_correction\n",
    "    Mbarc5 = Mbar_zp + ((wfc3jhc5+Mbar_offset) * Mbar_slope) - LMC_correction\n",
    "\n",
    "    Mbarsigc0 = math.sqrt(Mbar_rms**2 + (Mbar_slope*jhc0sig)**2)\n",
    "    Mbarsigc1 = math.sqrt(Mbar_rms**2 + (Mbar_slope*jhc1sig)**2)\n",
    "    Mbarsigc2 = math.sqrt(Mbar_rms**2 + (Mbar_slope*jhc2sig)**2)\n",
    "    Mbarsigc5 = math.sqrt(Mbar_rms**2 + (Mbar_slope*jhc5sig)**2)\n",
    "    print(wfc3jhc1, jhc1sig, Mbarc1, Mbarsigc1)\n",
    "    \n",
    "elif calibrationwavelength == \"gz\": # g-z is default\n",
    "    acs_gzc0 = gzc0 * (1+acsgz_slope) + acsgz_zp\n",
    "    acs_gzc1 = gzc1 * (1+acsgz_slope) + acsgz_zp\n",
    "    acs_gzc2 = gzc2 * (1+acsgz_slope) + acsgz_zp\n",
    "    acs_gzc5 = gzc5 * (1+acsgz_slope) + acsgz_zp\n",
    "\n",
    "    Mbarc0 = Mbar_zp + ((acs_gzc0+Mbar_offset) * Mbar_slope) - LMC_correction\n",
    "    Mbarc1 = Mbar_zp + ((acs_gzc1+Mbar_offset) * Mbar_slope) - LMC_correction\n",
    "    Mbarc2 = Mbar_zp + ((acs_gzc2+Mbar_offset) * Mbar_slope) - LMC_correction\n",
    "    Mbarc5 = Mbar_zp + ((acs_gzc5+Mbar_offset) * Mbar_slope) - LMC_correction\n",
    "\n",
    "    Mbarsigc0 = math.sqrt(Mbar_rms**2 + (Mbar_slope*gzc0sig)**2)\n",
    "    Mbarsigc1 = math.sqrt(Mbar_rms**2 + (Mbar_slope*gzc1sig)**2)\n",
    "    Mbarsigc2 = math.sqrt(Mbar_rms**2 + (Mbar_slope*gzc2sig)**2)\n",
    "    Mbarsigc5 = math.sqrt(Mbar_rms**2 + (Mbar_slope*gzc5sig)**2)\n",
    "\n",
    "    print(\"c0: (g-z) =\",\"{:.4}\".format(acs_gzc0),\"+/-\",\"{:.3}\".format(gzc0sig),\"  Mbar =\",\"{:.4}\".format(Mbarc0),\"+/-\",\"{:.3}\".format(Mbarsigc0))\n",
    "    print(\"c1: (g-z) =\",\"{:.4}\".format(acs_gzc1),\"+/-\",\"{:.3}\".format(gzc1sig),\"  Mbar =\",\"{:.4}\".format(Mbarc1),\"+/-\",\"{:.3}\".format(Mbarsigc1))\n",
    "    print(\"c2: (g-z) =\",\"{:.4}\".format(acs_gzc2),\"+/-\",\"{:.3}\".format(gzc2sig),\"  Mbar =\",\"{:.4}\".format(Mbarc2),\"+/-\",\"{:.3}\".format(Mbarsigc2))\n",
    "    print(\"c5: (g-z) =\",\"{:.4}\".format(acs_gzc5),\"+/-\",\"{:.3}\".format(gzc5sig),\"  Mbar =\",\"{:.4}\".format(Mbarc5),\"+/-\",\"{:.3}\".format(Mbarsigc5))\n",
    "    "
   ]
  },
  {
   "cell_type": "code",
   "execution_count": null,
   "id": "ee779430",
   "metadata": {},
   "outputs": [],
   "source": [
    "# Get SBF data from bestfluc output in json format--or better yet, just add all of this to bestfluc!\n",
    "# Bestfluc already has all this information, but it lacks the calibration definitions and colors.\n",
    "\n",
    "# These values for U12517 are for testing.\n",
    "ext_110 = 0.164\n",
    "sky = 3250      # background, eliprof notebook\n",
    "rc0 = 6.4       # get_sbf results <r> =  99.5 \n",
    "rc1 = 12.7      # the average radius of each anulus\n",
    "rc2 = 25.2\n",
    "rc5 = 50\n",
    "fracc0 = 0.9    # comes from get_sbf - number of unmasked pixels in an anulus  comupted by bestfluc (sliver)\n",
    "fracc1 = 0.89   # for now I assume it is == 1 \n",
    "fracc2 = 0.85\n",
    "fracc5 = 0.78\n",
    "galskyc0 = 16.4  # ratio of the gal brightness to background\n",
    "galskyc1 = 5.1   \n",
    "galskyc2 = 1.43\n",
    "galskyc5 = 0.335\n",
    "PrP0c0 = 0.07    # ratio or Pr/P0\n",
    "PrP0c1 = 0.068\n",
    "PrP0c2 = 0.097\n",
    "PrP0c5 = 0.213\n",
    "snrc0 = 9.65    # (P0-Pr)/P1\n",
    "snrc1 = 10.3\n",
    "snrc2 = 8.6\n",
    "snrc5 = 3.6\n",
    "GCpeak = 25.0         # mag of the GCLF peak --> likenew notebook\n",
    "GCpeakdist = 70       # distance that used to compute the GCLF peak\n",
    "GCpeakdiffc0 = 0.52   # GCLF peak - completness magnitude : bad if it's a big number (>~0.5 mg)\n",
    "GCpeakdiffc1 = 0.12\n",
    "GCpeakdiffc2 = -0.16\n",
    "GCpeakdiffc5 = -0.34\n",
    "mbarc0 = 31.64      # fluctation magnitudes  <- get_sbf\n",
    "mbarc1 = 31.59\n",
    "mbarc2 = 31.51\n",
    "mbarc5 = 31.46\n",
    "P0sigc0 = 0.02     # fit uncertainty on P0\n",
    "P0sigc1 = 0.02\n",
    "P0sigc2 = 0.03\n",
    "P0sigc5 = 0.07\n",
    "skysigc0 = 0.02    # Monte carlo  -> sigma due to sky uncertainty\n",
    "skysigc1 = 0.03\n",
    "skysigc2 = 0.05\n",
    "skysigc5 = 0.10\n",
    "psfsigc0 = 0.015\n",
    "psfsigc1 = 0.015\n",
    "psfsigc2 = 0.015\n",
    "psfsigc5 = 0.015\n",
    "Prsigc0 = Prsig * PrP0c0 \n",
    "Prsigc1 = Prsig * PrP0c1\n",
    "Prsigc2 = Prsig * PrP0c2\n",
    "Prsigc5 = Prsig * PrP0c5\n",
    "\n",
    "# combine observational uncertainties in quadrature\n",
    "mbarsigc0 = math.sqrt(P0sigc0**2 + skysigc0**2 + psfsigc0**2 + Prsigc0**2)\n",
    "mbarsigc1 = math.sqrt(P0sigc1**2 + skysigc1**2 + psfsigc1**2 + Prsigc1**2)\n",
    "mbarsigc2 = math.sqrt(P0sigc2**2 + skysigc2**2 + psfsigc2**2 + Prsigc2**2)\n",
    "mbarsigc5 = math.sqrt(P0sigc5**2 + skysigc5**2 + psfsigc5**2 + Prsigc5**2)\n",
    "    \n",
    "print(\"c0: mbar =\", \"{:.5}\".format(mbarc0),\" +/-\",\"{:.2}\".format(mbarsigc0))\n",
    "print(\"c1: mbar =\", \"{:.5}\".format(mbarc1),\" +/-\",\"{:.2}\".format(mbarsigc1))\n",
    "print(\"c2: mbar =\", \"{:.5}\".format(mbarc2),\" +/-\",\"{:.2}\".format(mbarsigc2))\n",
    "print(\"c5: mbar =\", \"{:.5}\".format(mbarc5),\" +/-\",\"{:.2}\".format(mbarsigc5))\n"
   ]
  },
  {
   "cell_type": "code",
   "execution_count": null,
   "id": "13e10a29",
   "metadata": {},
   "outputs": [],
   "source": [
    "# conditions to reject result"
   ]
  },
  {
   "cell_type": "code",
   "execution_count": 8,
   "id": "1dc8ccaf",
   "metadata": {},
   "outputs": [
    {
     "name": "stdout",
     "output_type": "stream",
     "text": [
      "Min of (P0-Pr)/P1 =  5\n",
      "Max GCLF peak - limiting mag =  0.5\n",
      "Min fraction unmasked pixels =  0.5\n",
      "Min galaxy/sky = 0.5\n",
      "Max Pr/P0 =  0.1\n",
      "Max mbar uncertainty =  0.2\n",
      "Min (g-z) = 1.2\n",
      "Min (J-H) = 0.22\n",
      "\n"
     ]
    },
    {
     "ename": "NameError",
     "evalue": "name 'snrc0' is not defined",
     "output_type": "error",
     "traceback": [
      "\u001b[0;31m---------------------------------------------------------------------------\u001b[0m",
      "\u001b[0;31mNameError\u001b[0m                                 Traceback (most recent call last)",
      "\u001b[0;32m<ipython-input-8-00191381335b>\u001b[0m in \u001b[0;36m<module>\u001b[0;34m\u001b[0m\n\u001b[1;32m     11\u001b[0m \u001b[0musec0\u001b[0m\u001b[0;34m=\u001b[0m\u001b[0;32mFalse\u001b[0m\u001b[0;34m;\u001b[0m \u001b[0musec1\u001b[0m\u001b[0;34m=\u001b[0m\u001b[0;32mFalse\u001b[0m\u001b[0;34m;\u001b[0m \u001b[0musec2\u001b[0m\u001b[0;34m=\u001b[0m\u001b[0;32mFalse\u001b[0m\u001b[0;34m;\u001b[0m \u001b[0musec5\u001b[0m\u001b[0;34m=\u001b[0m\u001b[0;32mFalse\u001b[0m\u001b[0;34m\u001b[0m\u001b[0;34m\u001b[0m\u001b[0m\n\u001b[1;32m     12\u001b[0m \u001b[0;34m\u001b[0m\u001b[0m\n\u001b[0;32m---> 13\u001b[0;31m \u001b[0;32mif\u001b[0m \u001b[0msnrc0\u001b[0m\u001b[0;34m>\u001b[0m\u001b[0mminsnr\u001b[0m \u001b[0;32mand\u001b[0m \u001b[0mGCpeakdiffc0\u001b[0m\u001b[0;34m<\u001b[0m\u001b[0mmaxGCpeakdiff\u001b[0m \u001b[0;32mand\u001b[0m \u001b[0mfracc0\u001b[0m\u001b[0;34m>\u001b[0m\u001b[0mminfrac\u001b[0m \u001b[0;32mand\u001b[0m \u001b[0mgalskyc0\u001b[0m\u001b[0;34m>\u001b[0m\u001b[0mmingalsky\u001b[0m \u001b[0;32mand\u001b[0m \u001b[0mPrP0c0\u001b[0m\u001b[0;34m<\u001b[0m\u001b[0mmaxPrP0\u001b[0m \u001b[0;32mand\u001b[0m \u001b[0mmbarsigc0\u001b[0m\u001b[0;34m<\u001b[0m\u001b[0mmaxmbarsig\u001b[0m \u001b[0;32mand\u001b[0m \u001b[0macs_gzc0\u001b[0m\u001b[0;34m>\u001b[0m\u001b[0mmingz\u001b[0m\u001b[0;34m:\u001b[0m\u001b[0;34m\u001b[0m\u001b[0;34m\u001b[0m\u001b[0m\n\u001b[0m\u001b[1;32m     14\u001b[0m     \u001b[0musec0\u001b[0m\u001b[0;34m=\u001b[0m\u001b[0;32mTrue\u001b[0m\u001b[0;34m\u001b[0m\u001b[0;34m\u001b[0m\u001b[0m\n\u001b[1;32m     15\u001b[0m     \u001b[0mprint\u001b[0m\u001b[0;34m(\u001b[0m\u001b[0;34m\"Including c0\"\u001b[0m\u001b[0;34m)\u001b[0m\u001b[0;34m\u001b[0m\u001b[0;34m\u001b[0m\u001b[0m\n",
      "\u001b[0;31mNameError\u001b[0m: name 'snrc0' is not defined"
     ]
    }
   ],
   "source": [
    "# Identify good regions to use\n",
    "print(\"Min of (P0-Pr)/P1 = \",minsnr)\n",
    "print(\"Max GCLF peak - limiting mag = \",maxGCpeakdiff)\n",
    "print(\"Min fraction unmasked pixels = \", minfrac)\n",
    "print(\"Min galaxy/sky =\", mingalsky)\n",
    "print(\"Max Pr/P0 = \", maxPrP0)\n",
    "print(\"Max mbar uncertainty = \", maxmbarsig)\n",
    "print(\"Min (g-z) =\",mingz)\n",
    "print(\"Min (J-H) =\",minjh)\n",
    "print(\"\")\n",
    "usec0=False; usec1=False; usec2=False; usec5=False\n",
    "\n",
    "if snrc0>minsnr and GCpeakdiffc0<maxGCpeakdiff and fracc0>minfrac and galskyc0>mingalsky and PrP0c0<maxPrP0 and mbarsigc0<maxmbarsig and acs_gzc0>mingz:\n",
    "    usec0=True\n",
    "    print(\"Including c0\")\n",
    "if snrc1>minsnr and GCpeakdiffc1<maxGCpeakdiff and fracc1>minfrac and galskyc1>mingalsky and PrP0c1<maxPrP0 and mbarsigc1<maxmbarsig and acs_gzc1>mingz:\n",
    "    usec1=True\n",
    "    print(\"Including c1\")\n",
    "if snrc2>minsnr and GCpeakdiffc2<maxGCpeakdiff and fracc2>minfrac and galskyc2>mingalsky and PrP0c2<maxPrP0 and mbarsigc2<maxmbarsig and acs_gzc2>mingz:\n",
    "    usec2=True\n",
    "    print(\"Including c2\")\n",
    "if snrc5>minsnr and GCpeakdiffc5<maxGCpeakdiff and fracc5>minfrac and galskyc5>mingalsky and PrP0c5<maxPrP0 and mbarsigc5<maxmbarsig and acs_gzc5>mingz:\n",
    "    usec5=True\n",
    "    print(\"Including c5\")\n",
    "   "
   ]
  },
  {
   "cell_type": "code",
   "execution_count": null,
   "id": "770d2f50",
   "metadata": {},
   "outputs": [],
   "source": []
  },
  {
   "cell_type": "code",
   "execution_count": null,
   "id": "4fce5faa",
   "metadata": {},
   "outputs": [],
   "source": [
    "# Calculate distances and uncertainties\n",
    "\n",
    "distmodc0 = (mbarc0 - Mbarc0)\n",
    "distmodc1 = (mbarc1 - Mbarc1)\n",
    "distmodc2 = (mbarc2 - Mbarc2)\n",
    "distmodc5 = (mbarc5 - Mbarc5)\n",
    "\n",
    "distmodsigc0 = math.sqrt(mbarsigc0**2 + Mbarsigc0**2)\n",
    "distmodsigc1 = math.sqrt(mbarsigc1**2 + Mbarsigc1**2)\n",
    "distmodsigc2 = math.sqrt(mbarsigc2**2 + Mbarsigc2**2)\n",
    "distmodsigc5 = math.sqrt(mbarsigc5**2 + Mbarsigc5**2)\n",
    "\n",
    "# these are calculated here for reference but are not used later.\n",
    "distc0 = 10**(distmodc0/5 - 5)\n",
    "distc1 = 10**(distmodc1/5 - 5)\n",
    "distc2 = 10**(distmodc2/5 - 5)\n",
    "distc5 = 10**(distmodc5/5 - 5)\n",
    "\n",
    "distsigc0 = (10**((distmodc0+distmodsigc0)/5 - 5) - 10**((distmodc0-distmodsigc0)/5 - 5)) / 2\n",
    "distsigc1 = (10**((distmodc1+distmodsigc1)/5 - 5) - 10**((distmodc1-distmodsigc1)/5 - 5)) / 2\n",
    "distsigc2 = (10**((distmodc2+distmodsigc2)/5 - 5) - 10**((distmodc2-distmodsigc2)/5 - 5)) / 2\n",
    "distsigc5 = (10**((distmodc5+distmodsigc5)/5 - 5) - 10**((distmodc5-distmodsigc5)/5 - 5)) / 2\n",
    "\n",
    "n=0\n",
    "if usec0:\n",
    "    n=n+1\n",
    "    print(\"c0: (m-M) =\", \"{:.5}\".format(distmodc0),\" +/-\",\"{:.3}\".format(distmodsigc0),\"  d =\",\"{:.3}\".format(distc0),\" +/-\",\"{:.2}\".format(distsigc0),\" Mpc\")\n",
    "if usec1:\n",
    "    n=n+1\n",
    "    print(\"c1: (m-M) =\", \"{:.5}\".format(distmodc1),\" +/-\",\"{:.3}\".format(distmodsigc1),\"  d =\",\"{:.3}\".format(distc1),\" +/-\",\"{:.2}\".format(distsigc1),\" Mpc\")\n",
    "if usec2:\n",
    "    n=n+1\n",
    "    print(\"c2: (m-M) =\", \"{:.5}\".format(distmodc2),\" +/-\",\"{:.3}\".format(distmodsigc2),\"  d =\",\"{:.3}\".format(distc2),\" +/-\",\"{:.2}\".format(distsigc2),\" Mpc\")\n",
    "if usec5:\n",
    "    n=n+1\n",
    "    print(\"c5: (m-M) =\", \"{:.5}\".format(distmodc5),\" +/-\",\"{:.3}\".format(distmodsigc5),\"  d =\",\"{:.3}\".format(distc5),\" +/-\",\"{:.2}\".format(distsigc5),\" Mpc\")\n",
    "\n",
    "# write distances and uncertainties to the output file"
   ]
  },
  {
   "cell_type": "code",
   "execution_count": 9,
   "id": "666551d6",
   "metadata": {},
   "outputs": [
    {
     "ename": "NameError",
     "evalue": "name 'math' is not defined",
     "output_type": "error",
     "traceback": [
      "\u001b[0;31m---------------------------------------------------------------------------\u001b[0m",
      "\u001b[0;31mNameError\u001b[0m                                 Traceback (most recent call last)",
      "\u001b[0;32m<ipython-input-9-8ba62a68dc0b>\u001b[0m in \u001b[0;36m<module>\u001b[0;34m\u001b[0m\n\u001b[1;32m     12\u001b[0m \u001b[0;34m\u001b[0m\u001b[0m\n\u001b[1;32m     13\u001b[0m \u001b[0;31m# annular regions are treated as independent measurements for weighted average and uncertainties\u001b[0m\u001b[0;34m\u001b[0m\u001b[0;34m\u001b[0m\u001b[0;34m\u001b[0m\u001b[0m\n\u001b[0;32m---> 14\u001b[0;31m \u001b[0mdistmodwtav\u001b[0m \u001b[0;34m=\u001b[0m \u001b[0mmath\u001b[0m\u001b[0;34m.\u001b[0m\u001b[0msqrt\u001b[0m\u001b[0;34m(\u001b[0m\u001b[0mdistmodc0\u001b[0m\u001b[0;34m**\u001b[0m\u001b[0;36m2\u001b[0m\u001b[0;34m/\u001b[0m\u001b[0mdistmodsigc0\u001b[0m\u001b[0;34m**\u001b[0m\u001b[0;36m2\u001b[0m \u001b[0;34m+\u001b[0m \u001b[0mdistmodc1\u001b[0m\u001b[0;34m**\u001b[0m\u001b[0;36m2\u001b[0m\u001b[0;34m/\u001b[0m\u001b[0mdistmodsigc1\u001b[0m\u001b[0;34m**\u001b[0m\u001b[0;36m2\u001b[0m \u001b[0;34m+\u001b[0m \u001b[0mdistmodc2\u001b[0m\u001b[0;34m**\u001b[0m\u001b[0;36m2\u001b[0m\u001b[0;34m/\u001b[0m\u001b[0mdistmodsigc2\u001b[0m\u001b[0;34m**\u001b[0m\u001b[0;36m2\u001b[0m \u001b[0;34m+\u001b[0m \u001b[0mdistmodc5\u001b[0m\u001b[0;34m**\u001b[0m\u001b[0;36m2\u001b[0m\u001b[0;34m/\u001b[0m\u001b[0mdistmodsigc5\u001b[0m\u001b[0;34m**\u001b[0m\u001b[0;36m2\u001b[0m\u001b[0;34m)\u001b[0m \u001b[0;34m/\u001b[0m \u001b[0mmath\u001b[0m\u001b[0;34m.\u001b[0m\u001b[0msqrt\u001b[0m\u001b[0;34m(\u001b[0m\u001b[0;36m1\u001b[0m\u001b[0;34m/\u001b[0m\u001b[0mdistmodsigc0\u001b[0m\u001b[0;34m**\u001b[0m\u001b[0;36m2\u001b[0m \u001b[0;34m+\u001b[0m \u001b[0;36m1\u001b[0m\u001b[0;34m/\u001b[0m\u001b[0mdistmodsigc1\u001b[0m\u001b[0;34m**\u001b[0m\u001b[0;36m2\u001b[0m \u001b[0;34m+\u001b[0m \u001b[0;36m1\u001b[0m\u001b[0;34m/\u001b[0m\u001b[0mdistmodsigc2\u001b[0m\u001b[0;34m**\u001b[0m\u001b[0;36m2\u001b[0m \u001b[0;34m+\u001b[0m \u001b[0;36m1\u001b[0m\u001b[0;34m/\u001b[0m\u001b[0mdistmodsigc5\u001b[0m\u001b[0;34m**\u001b[0m\u001b[0;36m2\u001b[0m\u001b[0;34m)\u001b[0m\u001b[0;34m\u001b[0m\u001b[0;34m\u001b[0m\u001b[0m\n\u001b[0m\u001b[1;32m     15\u001b[0m \u001b[0mmbarsigwtav\u001b[0m \u001b[0;34m=\u001b[0m \u001b[0;36m1\u001b[0m \u001b[0;34m/\u001b[0m \u001b[0mmath\u001b[0m\u001b[0;34m.\u001b[0m\u001b[0msqrt\u001b[0m\u001b[0;34m(\u001b[0m\u001b[0;36m1\u001b[0m\u001b[0;34m/\u001b[0m\u001b[0mmbarsigc0\u001b[0m\u001b[0;34m**\u001b[0m\u001b[0;36m2\u001b[0m \u001b[0;34m+\u001b[0m \u001b[0;36m1\u001b[0m\u001b[0;34m/\u001b[0m\u001b[0mmbarsigc1\u001b[0m\u001b[0;34m**\u001b[0m\u001b[0;36m2\u001b[0m \u001b[0;34m+\u001b[0m \u001b[0;36m1\u001b[0m\u001b[0;34m/\u001b[0m\u001b[0mmbarsigc2\u001b[0m\u001b[0;34m**\u001b[0m\u001b[0;36m2\u001b[0m \u001b[0;34m+\u001b[0m \u001b[0;36m1\u001b[0m\u001b[0;34m/\u001b[0m\u001b[0mmbarsigc5\u001b[0m\u001b[0;34m**\u001b[0m\u001b[0;36m2\u001b[0m\u001b[0;34m)\u001b[0m\u001b[0;34m\u001b[0m\u001b[0;34m\u001b[0m\u001b[0m\n\u001b[1;32m     16\u001b[0m \u001b[0;34m\u001b[0m\u001b[0m\n",
      "\u001b[0;31mNameError\u001b[0m: name 'math' is not defined"
     ]
    }
   ],
   "source": [
    "# Weighted average distances for good annuli only\n",
    "\n",
    "# Note that this section trashes the computed values for the excluded regions, so you need to rerun the code from the beginning.\n",
    "if not usec0:\n",
    "    distmodc0=0; distmodsigc0=1E9; mbarsigc0=1E9; Mbarsigc0=0\n",
    "if not usec1:\n",
    "    distmodc1=0; distmodsigc1=1E9; mbarsigc1=1E9; Mbarsigc1=0\n",
    "if not usec2:\n",
    "    distmodc2=0; distmodsigc2=1E9; mbarsigc2=1E9; Mbarsigc2=0\n",
    "if not usec5:\n",
    "    distmodc5=0; distmodsigc5=1E9; mbarsigc5=1E9; Mbarsigc5=0\n",
    "\n",
    "# annular regions are treated as independent measurements for weighted average and uncertainties\n",
    "distmodwtav = math.sqrt(distmodc0**2/distmodsigc0**2 + distmodc1**2/distmodsigc1**2 + distmodc2**2/distmodsigc2**2 + distmodc5**2/distmodsigc5**2) / math.sqrt(1/distmodsigc0**2 + 1/distmodsigc1**2 + 1/distmodsigc2**2 + 1/distmodsigc5**2)\n",
    "mbarsigwtav = 1 / math.sqrt(1/mbarsigc0**2 + 1/mbarsigc1**2 + 1/mbarsigc2**2 + 1/mbarsigc5**2)\n",
    "\n",
    "# Extintion uncertainty is not independent for annuli, it's systematic, so add it on\n",
    "mbarsigwtav = (ext_sig * ext) + mbarsigwtav  # add systematic uncertainty from extinction to obs error\n",
    "\n",
    "# Calibration Mbar uncertainties are not really independent for each region. Just average them.\n",
    "Mbarsigwtav = (Mbarsigc0 + Mbarsigc1 + Mbarsigc2 + Mbarsigc5)/n\n",
    "\n",
    "\n",
    "distmodsigwtav = math.sqrt(mbarsigwtav**2 + Mbarsigwtav**2)  # add obs and cal errors in quadrature\n",
    "\n",
    "distwtav = 10**(distmodwtav/5 - 5)\n",
    "# Distance uncertainties are not symmetrical in distance. I just average the + and - uncertaintes...\n",
    "distsigwtavplus = 10**((distmodwtav+distmodsigwtav)/5 -5) - distwtav\n",
    "distsigwtavminus = distwtav - 10**((distmodwtav-distmodsigwtav)/5 -5)\n",
    "distsigwtav = (distsigwtavplus + distsigwtavminus) / 2\n",
    "\n",
    "print(\"(m-M) =\",\"{:.5}\".format(distmodwtav),\"+/-\",\"{:.3}\".format(distmodsigwtav))\n",
    "print(\"d =\",\"{:.3}\".format(distwtav),\"+/-\",\"{:.2}\".format(distsigwtav))\n",
    "print(\"d =\",\"{:.3}\".format(distwtav),\"+\",\"{:.2}\".format(distsigwtavplus),\"-\",\"{:.2}\".format(distsigwtavminus))\n",
    "\n",
    "# Write results to the output file.\n"
   ]
  },
  {
   "cell_type": "code",
   "execution_count": null,
   "id": "33b7009c",
   "metadata": {},
   "outputs": [],
   "source": [
    "# more ./wfc3-16262/u11990/u11990doj.MBAR \n",
    "# the output ogf bestfluc"
   ]
  },
  {
   "cell_type": "code",
   "execution_count": null,
   "id": "cd05423c",
   "metadata": {},
   "outputs": [],
   "source": []
  },
  {
   "cell_type": "code",
   "execution_count": null,
   "id": "bb2f68d6-7d82-4c3d-8eef-2828a9daef6d",
   "metadata": {},
   "outputs": [],
   "source": []
  },
  {
   "cell_type": "code",
   "execution_count": 187,
   "id": "ca3d752c-d4e9-4dd1-b84b-63eb2ed07b70",
   "metadata": {},
   "outputs": [],
   "source": []
  },
  {
   "cell_type": "code",
   "execution_count": 2,
   "id": "4a2c69d4-5cfd-4037-b98d-f7cb6dede0f1",
   "metadata": {},
   "outputs": [
    {
     "data": {
      "text/plain": [
       "(array([0.295, 0.19 , 0.11 , 0.105, 0.085, 0.06 , 0.06 , 0.065, 0.03 ]),\n",
       " array([0.5, 1.5, 2.5, 3.5, 4.5, 5.5, 6.5, 7.5, 8.5, 9.5]),\n",
       " <BarContainer object of 9 artists>)"
      ]
     },
     "execution_count": 2,
     "metadata": {},
     "output_type": "execute_result"
    },
    {
     "data": {
      "image/png": "[encoded data removed]",
      "text/plain": [
       "<Figure size 640x480 with 1 Axes>"
      ]
     },
     "metadata": {},
     "output_type": "display_data"
    }
   ],
   "source": [
    "import numpy as np\n",
    "import matplotlib.pyplot as plt\n",
    "import copy\n",
    "\n",
    "X0 = np.asarray([13])   # initial value; arbitrary\n",
    "X = copy.deepcopy(X0)\n",
    "\n",
    "growth_factor = 2.3   # arbitrary\n",
    "for i in range(100):\n",
    "    X0 = growth_factor * X0\n",
    "    X = np.concatenate((X, X0))\n",
    "\n",
    "X0 = np.asarray([18])   # initial value; arbitrary\n",
    "growth_factor = 1.7   # arbitrary\n",
    "for i in range(100):\n",
    "    X0 = growth_factor * X0\n",
    "    X = np.concatenate((X, X0))\n",
    "\n",
    "\n",
    "left_digit = np.asarray([int(str(x)[0]) for x in X[1:]])\n",
    "plt.hist(left_digit, bins=np.arange(0.5, 10.5, 1), density=True)\n",
    "\n",
    "# Benford's Law holds true for a data set that grows exponentially"
   ]
  },
  {
   "cell_type": "code",
   "execution_count": 7,
   "id": "76aea0f0-c7c3-444d-9731-72dc20ae0eba",
   "metadata": {},
   "outputs": [
    {
     "data": {
      "text/plain": [
       "1.6891303655663625"
      ]
     },
     "execution_count": 7,
     "metadata": {},
     "output_type": "execute_result"
    }
   ],
   "source": [
    "1+np.random.random()"
   ]
  },
  {
   "cell_type": "code",
   "execution_count": 1,
   "id": "cfa86480-68ca-470c-88aa-34e69bc6ffa9",
   "metadata": {},
   "outputs": [
    {
     "data": {
      "text/plain": [
       "(array([0.25, 0.16, 0.1 , 0.12, 0.11, 0.1 , 0.04, 0.09, 0.03]),\n",
       " array([0.5, 1.5, 2.5, 3.5, 4.5, 5.5, 6.5, 7.5, 8.5, 9.5]),\n",
       " <BarContainer object of 9 artists>)"
      ]
     },
     "execution_count": 1,
     "metadata": {},
     "output_type": "execute_result"
    },
    {
     "data": {
      "image/png": "[encoded data removed]",
      "text/plain": [
       "<Figure size 640x480 with 1 Axes>"
      ]
     },
     "metadata": {},
     "output_type": "display_data"
    }
   ],
   "source": [
    "import numpy as np\n",
    "import matplotlib.pyplot as plt\n",
    "import copy\n",
    "\n",
    "X = np.asarray([0])\n",
    "\n",
    "for i in range(100):     # number of cities\n",
    "    \n",
    "    growth_factor = 2+np.random.random()   # arbitrary value for the city\n",
    "\n",
    "    # arbitrary initial value; minimum number of ballots in a box\n",
    "    X0 = growth_factor * np.random.randint(1, 30, size=1) \n",
    "    X1 = copy.deepcopy(X0)\n",
    "    for j in range(100):   # possible number of ballots in a box\n",
    "        X0 = growth_factor * X0\n",
    "        X1 = np.concatenate((X1, X0))\n",
    "\n",
    "    # choose one poissbility randomly\n",
    "    X = np.concatenate((X, np.random.choice(X1, 1)))\n",
    "    \n",
    "left_digit = np.asarray([int(str(x)[0]) for x in X[1:]])\n",
    "plt.hist(left_digit, bins=np.arange(0.5, 10.5, 1), density=True, color='red')\n",
    "\n",
    "# Benford's Law holds true for a data set that grows exponentially"
   ]
  },
  {
   "cell_type": "code",
   "execution_count": null,
   "id": "2ae801cc-78ee-4ba8-8eb4-ebdecf6309ac",
   "metadata": {},
   "outputs": [],
   "source": []
  },
  {
   "cell_type": "code",
   "execution_count": null,
   "id": "d76c552e-2dcb-41e7-9644-d4ff87945604",
   "metadata": {},
   "outputs": [],
   "source": []
  },
  {
   "cell_type": "code",
   "execution_count": null,
   "id": "aa1deccb-f57e-4dbb-8b5a-af030048a01e",
   "metadata": {},
   "outputs": [],
   "source": []
  }
 ],
 "metadata": {
  "kernelspec": {
   "display_name": "Python 3 (ipykernel)",
   "language": "python",
   "name": "python3"
  },
  "language_info": {
   "codemirror_mode": {
    "name": "ipython",
    "version": 3
   },
   "file_extension": ".py",
   "mimetype": "text/x-python",
   "name": "python",
   "nbconvert_exporter": "python",
   "pygments_lexer": "ipython3",
   "version": "3.12.4"
  }
 },
 "nbformat": 4,
 "nbformat_minor": 5
}
