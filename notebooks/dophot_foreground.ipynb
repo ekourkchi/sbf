{
 "cells": [
  {
   "cell_type": "code",
   "execution_count": 2,
   "metadata": {},
   "outputs": [],
   "source": [
    "import sys, os\n",
    "\n",
    "from settings import *\n",
    "sys.path.insert(0, PYSBF_PATH)\n",
    "\n",
    "from pysbf import *\n",
    "from IPython.display import display, Markdown, clear_output\n",
    "\n",
    "import warnings\n",
    "warnings.filterwarnings('ignore')"
   ]
  },
  {
   "cell_type": "code",
   "execution_count": null,
   "metadata": {},
   "outputs": [],
   "source": []
  },
  {
   "cell_type": "code",
   "execution_count": 3,
   "metadata": {},
   "outputs": [],
   "source": [
    "inFolder = IN_FOLDER\n",
    "outFolder = OUT_FOLDER\n",
    "configFolder = CONFIG_FOLDER"
   ]
  },
  {
   "cell_type": "code",
   "execution_count": 4,
   "metadata": {},
   "outputs": [],
   "source": [
    "name = \"u12517\""
   ]
  },
  {
   "cell_type": "markdown",
   "metadata": {},
   "source": [
    "### Checking out the log file"
   ]
  },
  {
   "cell_type": "code",
   "execution_count": 5,
   "metadata": {},
   "outputs": [],
   "source": [
    "outFolder += \"Outputs_\"+name+'/'\n",
    "logFile = outFolder+name+\"_model_log.csv\"\n"
   ]
  },
  {
   "cell_type": "code",
   "execution_count": 6,
   "metadata": {},
   "outputs": [],
   "source": [
    "df_log = open_log_df(logFile)\n",
    "sky_med = float(df_log.loc[\"initial_sky_med\"].value)\n",
    "\n",
    "df = open_log_df(logFile)\n",
    "obj_uuid = df.loc['uuid'].value\n",
    "objRoot = outFolder+name+'_'+obj_uuid+'/'\n",
    "\n",
    "X0 = float(df.loc['X0'].value)\n",
    "Y0 = float(df.loc['Y0'].value)\n",
    "\n",
    "Config = {} \n",
    "\n",
    "Config[\"name\"] = name\n",
    "Config[\"inFolder\"] = inFolder\n",
    "Config[\"objRoot\"] = objRoot\n",
    "Config[\"configFolder\"] = configFolder\n",
    "Config[\"X0\"] = X0\n",
    "Config[\"Y0\"] = Y0\n",
    "Config[\"SKY\"] = df.loc[\"sky\"].value"
   ]
  },
  {
   "cell_type": "code",
   "execution_count": 8,
   "metadata": {},
   "outputs": [
    {
     "data": {
      "text/plain": [
       "{'name': 'u12517',\n",
       " 'inFolder': '/home/sbf/data_in/wfc3/',\n",
       " 'objRoot': '/home/sbf/data_out/wfc3/Outputs_u12517/u12517_83b9b9191e35/',\n",
       " 'configFolder': '/home/sbf/config/',\n",
       " 'X0': 567.6315,\n",
       " 'Y0': 562.6147,\n",
       " 'SKY': '3246'}"
      ]
     },
     "execution_count": 8,
     "metadata": {},
     "output_type": "execute_result"
    }
   ],
   "source": [
    "Config"
   ]
  },
  {
   "cell_type": "code",
   "execution_count": 7,
   "metadata": {},
   "outputs": [
    {
     "name": "stdout",
     "output_type": "stream",
     "text": [
      "input image not found:  masked_se.000\n"
     ]
    },
    {
     "ename": "ReidualMaksedImageNotFound",
     "evalue": "",
     "output_type": "error",
     "traceback": [
      "\u001b[0;31m---------------------------------------------------------------------------\u001b[0m",
      "\u001b[0;31mReidualMaksedImageNotFound\u001b[0m                Traceback (most recent call last)",
      "Cell \u001b[0;32mIn[7], line 2\u001b[0m\n\u001b[1;32m      1\u001b[0m \u001b[38;5;66;03m# used Dmask instead of mask1\u001b[39;00m\n\u001b[0;32m----> 2\u001b[0m log, resid_file, dpar_file, image_in, image_out, dpo_file \u001b[38;5;241m=\u001b[39m DoPhot(model\u001b[38;5;241m=\u001b[39m\u001b[38;5;241m0\u001b[39m, renuc\u001b[38;5;241m=\u001b[39m\u001b[38;5;241m2\u001b[39m, \u001b[38;5;241m*\u001b[39m\u001b[38;5;241m*\u001b[39mConfig) \n\u001b[1;32m      4\u001b[0m \u001b[38;5;28mprint\u001b[39m(\u001b[38;5;124m\"\u001b[39m\u001b[38;5;124mlog file: \u001b[39m\u001b[38;5;124m\"\u001b[39m, log)\n\u001b[1;32m      5\u001b[0m _ \u001b[38;5;241m=\u001b[39m Logtext(log, \u001b[38;5;124m\"\u001b[39m\u001b[38;5;124mlog\u001b[39m\u001b[38;5;124m\"\u001b[39m)\n",
      "File \u001b[0;32m~/pysbf/dophot.py:69\u001b[0m, in \u001b[0;36mDoPhot\u001b[0;34m(model, renuc, residual, image_in, image_out, object_out, **Config)\u001b[0m\n\u001b[1;32m     67\u001b[0m \u001b[38;5;28;01mif\u001b[39;00m \u001b[38;5;129;01mnot\u001b[39;00m os\u001b[38;5;241m.\u001b[39mpath\u001b[38;5;241m.\u001b[39mexists(root \u001b[38;5;241m+\u001b[39m IMAGE_IN):\n\u001b[1;32m     68\u001b[0m     \u001b[38;5;28mprint\u001b[39m(\u001b[38;5;124m\"\u001b[39m\u001b[38;5;124minput image not found: \u001b[39m\u001b[38;5;124m\"\u001b[39m, IMAGE_IN)\n\u001b[0;32m---> 69\u001b[0m     \u001b[38;5;28;01mraise\u001b[39;00m ReidualMaksedImageNotFound\n\u001b[1;32m     71\u001b[0m IMAGE_VAR \u001b[38;5;241m=\u001b[39m \u001b[38;5;124m\"\u001b[39m\u001b[38;5;124mmodel\u001b[39m\u001b[38;5;124m\"\u001b[39m \u001b[38;5;241m+\u001b[39m suffix\n\u001b[1;32m     72\u001b[0m \u001b[38;5;66;03m# IMAGE_VAR   =  \"dvar\" + suffix  ## renuc factor 2x the one used for sextractor\u001b[39;00m\n",
      "\u001b[0;31mReidualMaksedImageNotFound\u001b[0m: "
     ]
    }
   ],
   "source": [
    "# used Dmask instead of mask1\n",
    "log, resid_file, dpar_file, image_in, image_out, dpo_file = DoPhot(model=0, renuc=2, **Config) \n",
    "\n",
    "print(\"log file: \", log)\n",
    "_ = Logtext(log, \"log\")\n",
    "\n",
    "print(\"dpar file: \", dpar_file)\n",
    "_ = Logtext(dpar_file, \"Dpar File\")\n",
    "\n",
    "if os.path.exists(image_in):\n",
    "    print(\"input image: \", image_in)\n",
    "    _ = CMD_button(\"ds9 \"+image_in+\" &\", \"[DS9] input image\")\n",
    "else:\n",
    "    print(\"input image not found: \", image_in)\n",
    "\n",
    "if os.path.exists(resid_file):\n",
    "    print(\"residual image: \", resid_file)\n",
    "    _ = CMD_button(\"ds9 \"+resid_file+\" &\", \"[DS9] residual image\")\n",
    "else:\n",
    "    print(\"residual image not found: \", resid_file)\n",
    "\n",
    "print(\"dpo file: \", dpo_file)\n",
    "if dpo_file is not None:\n",
    "    _ = Logtext(dpo_file, \"DPO File\")\n",
    "    \n",
    "print(\"output image: \", image_out)\n",
    "if image_out is not None:\n",
    "    _ = CMD_button(\"ds9 \"+image_out+\" &\", \"[DS9] dpr image\")"
   ]
  },
  {
   "cell_type": "code",
   "execution_count": null,
   "metadata": {},
   "outputs": [],
   "source": []
  },
  {
   "cell_type": "code",
   "execution_count": null,
   "metadata": {},
   "outputs": [],
   "source": []
  },
  {
   "cell_type": "code",
   "execution_count": 8,
   "metadata": {},
   "outputs": [
    {
     "name": "stdout",
     "output_type": "stream",
     "text": [
      "Radius of the avoding zone [pix]\n"
     ]
    },
    {
     "data": {
      "application/vnd.jupyter.widget-view+json": {
       "model_id": "5ff631f4c7834d7bae6fb63c584359e4",
       "version_major": 2,
       "version_minor": 0
      },
      "text/plain": [
       "FloatSlider(value=20.0, description='R_aperture', min=1.0, step=1.0)"
      ]
     },
     "metadata": {},
     "output_type": "display_data"
    }
   ],
   "source": [
    "avoiding_r = widgets.FloatSlider(\n",
    "                    value=20,\n",
    "                    min=1,\n",
    "                    max=100,\n",
    "                    step=1,\n",
    "                    description=\"R_aperture\",\n",
    "                )\n",
    "\n",
    "print(\"Radius of the avoding zone [pix]\")\n",
    "display(avoiding_r)"
   ]
  },
  {
   "cell_type": "code",
   "execution_count": 21,
   "metadata": {},
   "outputs": [
    {
     "name": "stdout",
     "output_type": "stream",
     "text": [
      "wrote:  ./output/Outputs_u12517/u12517_9f43b1726bf2/u12517_do_lkn.000\n",
      "GCs:  117\n",
      "galaxies:  0\n",
      "Including dophot object types 4, 5, and 7\n"
     ]
    },
    {
     "data": {
      "application/vnd.jupyter.widget-view+json": {
       "model_id": "472d5416e405410b907776503da0ce75",
       "version_major": 2,
       "version_minor": 0
      },
      "text/plain": [
       "HBox(children=(Textarea(value='  1.0   568.91  552.19    10.50  1   0.80865  0.74997   0.16173  1.201  1.2010 …"
      ]
     },
     "metadata": {},
     "output_type": "display_data"
    }
   ],
   "source": [
    "DF, lkn_file_name = make_do_lkn(dpo_file, model=0, r_aperture=avoiding_r.value, \n",
    "                                    exclude457=False, \n",
    "                                    ZP=35.081, \n",
    "                                    **Config)\n",
    "_ = Logtext(lkn_file_name, \"lkn file\")"
   ]
  },
  {
   "cell_type": "markdown",
   "metadata": {},
   "source": [
    "- **yellow**: ignore\n",
    "- **cyan**: point sources\n",
    "- **green**: galaxies, extended objects\n",
    "- **red**: ignore"
   ]
  },
  {
   "cell_type": "code",
   "execution_count": 7,
   "metadata": {},
   "outputs": [
    {
     "data": {
      "application/vnd.jupyter.widget-view+json": {
       "model_id": "4d9548b0ddd6434d93a0cbb46065bdef",
       "version_major": 2,
       "version_minor": 0
      },
      "text/plain": [
       "VBox(children=(Button(description='Regions On/Off', style=ButtonStyle()),))"
      ]
     },
     "metadata": {},
     "output_type": "display_data"
    }
   ],
   "source": [
    "reg_button = ds9_region_display(reg_file=\"./ds9.reg\")"
   ]
  },
  {
   "cell_type": "code",
   "execution_count": null,
   "metadata": {},
   "outputs": [],
   "source": []
  },
  {
   "cell_type": "code",
   "execution_count": null,
   "metadata": {},
   "outputs": [],
   "source": []
  },
  {
   "cell_type": "code",
   "execution_count": 10,
   "metadata": {},
   "outputs": [],
   "source": [
    "#  Using Mv = -7.40 for GCs (NOT for JHK)\n"
   ]
  },
  {
   "cell_type": "code",
   "execution_count": 11,
   "metadata": {},
   "outputs": [],
   "source": [
    "# negative distance --> fitting first \n",
    "\n",
    "# Enter new bright end cutoff (22.00):\n",
    "\n",
    "# sigma width of the GC LF in units of mag ~1.2 small objects ~1.3 ~1.4 giant ellipticals"
   ]
  },
  {
   "cell_type": "code",
   "execution_count": 12,
   "metadata": {},
   "outputs": [],
   "source": [
    "# LIKENEW6 -- IR version 2020\n",
    "#  Enter object list file name (from mkincat): se_lknj.000\n",
    "#  Enter color (B/V/R/I/z/J/H/K/Ks = 0/1/2/3/4/5/6/7/8) of data: 5\n",
    "#  Enter scale (\"/p), psf [-]fwhm(p), and [-]dist (Mpc): 0.128, 1.4, 60\n",
    "#  Enter cutoff [-]S/N ratio and T/F for soft bias correction:-4.5\n"
   ]
  },
  {
   "cell_type": "code",
   "execution_count": 13,
   "metadata": {},
   "outputs": [],
   "source": [
    "# ptm6 --> modified manually ptm6b"
   ]
  },
  {
   "cell_type": "code",
   "execution_count": null,
   "metadata": {},
   "outputs": [],
   "source": []
  },
  {
   "cell_type": "code",
   "execution_count": null,
   "metadata": {},
   "outputs": [],
   "source": []
  },
  {
   "cell_type": "code",
   "execution_count": null,
   "metadata": {},
   "outputs": [],
   "source": []
  }
 ],
 "metadata": {
  "kernelspec": {
   "display_name": "Python 3 (ipykernel)",
   "language": "python",
   "name": "python3"
  },
  "language_info": {
   "codemirror_mode": {
    "name": "ipython",
    "version": 3
   },
   "file_extension": ".py",
   "mimetype": "text/x-python",
   "name": "python",
   "nbconvert_exporter": "python",
   "pygments_lexer": "ipython3",
   "version": "3.12.7"
  }
 },
 "nbformat": 4,
 "nbformat_minor": 4
}
